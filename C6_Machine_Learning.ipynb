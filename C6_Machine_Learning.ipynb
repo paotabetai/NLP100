{
  "nbformat": 4,
  "nbformat_minor": 0,
  "metadata": {
    "colab": {
      "provenance": [],
      "authorship_tag": "ABX9TyN6xmm9O6QpRcDMMldtPfjN"
    },
    "kernelspec": {
      "name": "python3",
      "display_name": "Python 3"
    },
    "language_info": {
      "name": "python"
    }
  },
  "cells": [
    {
      "cell_type": "code",
      "execution_count": 1,
      "metadata": {
        "colab": {
          "base_uri": "https://localhost:8080/"
        },
        "id": "bd-iceQ4h6Lv",
        "outputId": "2af57a3c-4eff-459a-8350-149f88cd2f11"
      },
      "outputs": [
        {
          "output_type": "stream",
          "name": "stdout",
          "text": [
            "--2023-02-05 08:44:58--  https://archive.ics.uci.edu/ml/machine-learning-databases/00359/NewsAggregatorDataset.zip\n",
            "Resolving archive.ics.uci.edu (archive.ics.uci.edu)... 128.195.10.252\n",
            "Connecting to archive.ics.uci.edu (archive.ics.uci.edu)|128.195.10.252|:443... connected.\n",
            "HTTP request sent, awaiting response... 200 OK\n",
            "Length: 29224203 (28M) [application/x-httpd-php]\n",
            "Saving to: ‘NewsAggregatorDataset.zip’\n",
            "\n",
            "NewsAggregatorDatas 100%[===================>]  27.87M  57.2MB/s    in 0.5s    \n",
            "\n",
            "2023-02-05 08:44:59 (57.2 MB/s) - ‘NewsAggregatorDataset.zip’ saved [29224203/29224203]\n",
            "\n"
          ]
        }
      ],
      "source": [
        "!wget https://archive.ics.uci.edu/ml/machine-learning-databases/00359/NewsAggregatorDataset.zip"
      ]
    },
    {
      "cell_type": "code",
      "source": [
        "!unzip NewsAggregatorDataset.zip"
      ],
      "metadata": {
        "colab": {
          "base_uri": "https://localhost:8080/"
        },
        "id": "GAJ4ci4sh_BJ",
        "outputId": "e7a32f7b-a68c-496b-ec99-b0103fd2876b"
      },
      "execution_count": 2,
      "outputs": [
        {
          "output_type": "stream",
          "name": "stdout",
          "text": [
            "Archive:  NewsAggregatorDataset.zip\n",
            "  inflating: 2pageSessions.csv       \n",
            "   creating: __MACOSX/\n",
            "  inflating: __MACOSX/._2pageSessions.csv  \n",
            "  inflating: newsCorpora.csv         \n",
            "  inflating: __MACOSX/._newsCorpora.csv  \n",
            "  inflating: readme.txt              \n",
            "  inflating: __MACOSX/._readme.txt   \n"
          ]
        }
      ]
    },
    {
      "cell_type": "code",
      "source": [
        "# 50\n",
        "import collections\n",
        "import csv\n",
        "import random\n",
        "\n",
        "TARGET_PUBLISHERS = [\n",
        "  'Reuters',\\\n",
        "  'Huffington Post',\\\n",
        "  'Businessweek',\\\n",
        "  'Contactmusic.com',\\\n",
        "  'Daily Mail'\n",
        "]\n",
        "\n",
        "CATEGORIES = [\n",
        "    'b',\n",
        "    't',\n",
        "    'e',\n",
        "    'm'\n",
        "]\n",
        "\n",
        "with open('./newsCorpora.csv') as f:\n",
        "  reader = csv.reader(f, delimiter='\\t')\n",
        "  all_news = [[news[4], news[1]] for news in reader if news[3] in TARGET_PUBLISHERS]\n",
        "\n",
        "random.shuffle(all_news)\n",
        "\n",
        "train_data_num = len(all_news)  * 8 // 10\n",
        "valid_data_num = len(all_news)  * 9 // 10\n",
        "train_data = all_news[: train_data_num]\n",
        "valid_data = all_news[train_data_num : valid_data_num]\n",
        "test_data = all_news[valid_data_num :]\n",
        "\n",
        "def write_newsfile(path, data):\n",
        "  with open(path, mode='w') as f:\n",
        "    writer = csv.writer(f, delimiter='\\t')\n",
        "    writer.writerows(data)\n",
        "\n",
        "write_newsfile('./train.txt', train_data)\n",
        "write_newsfile('./valid.txt', valid_data)\n",
        "write_newsfile('./test.txt', test_data)\n",
        "\n",
        "def calculate_categories(name, data):\n",
        "  print(f'{name}データ事例数: {len(data)}')\n",
        "  train_categories = [news[0] for news in data]\n",
        "  train_c = collections.Counter(train_categories)\n",
        "  for category in CATEGORIES:\n",
        "    num = train_c[category]\n",
        "    print(f'Category {category}: {num}')\n",
        "\n",
        "calculate_categories('学習', train_data)\n",
        "calculate_categories('評価', test_data)"
      ],
      "metadata": {
        "colab": {
          "base_uri": "https://localhost:8080/"
        },
        "id": "a7ICro1ziHzp",
        "outputId": "f300d535-57c6-43b7-f107-9c19e20a1535"
      },
      "execution_count": 34,
      "outputs": [
        {
          "output_type": "stream",
          "name": "stdout",
          "text": [
            "学習データ事例数: 10672\n",
            "Category b: 4511\n",
            "Category t: 1188\n",
            "Category e: 4239\n",
            "Category m: 734\n",
            "評価データ事例数: 1334\n",
            "Category b: 558\n",
            "Category t: 168\n",
            "Category e: 513\n",
            "Category m: 95\n"
          ]
        }
      ]
    },
    {
      "cell_type": "code",
      "source": [
        "!pip install nltk"
      ],
      "metadata": {
        "id": "rfN-LzPN9JMJ"
      },
      "execution_count": null,
      "outputs": []
    },
    {
      "cell_type": "code",
      "source": [
        "# 51\n",
        "import nltk\n",
        "from nltk.corpus import wordnet as wn\n",
        "\n",
        "nltk.download('averaged_perceptron_tagger')\n",
        "nltk.download('punkt')\n",
        "nltk.download('wordnet')\n",
        "\n",
        "def preprocess_sentence(sentence):\n",
        "  morph = nltk.word_tokenize(sentence)\n",
        "  processed_sentence = []\n",
        "  for s_pos in nltk.pos_tag(morph):\n",
        "    if len(s_pos[1]) >= 2 and s_pos[1] != 'SYM':\n",
        "      processed_sentence.append(s_pos[0])\n",
        "  return processed_sentence\n",
        "\n",
        "def retrieve_feature(file_type):\n",
        "  with open(f'./{file_type}.txt', mode='r') as f:\n",
        "    reader = csv.reader(f, delimiter='\\t')\n",
        "    with open(f'./{file_type}.feature.txt', mode='w') as f:\n",
        "      writer = csv.writer(f, delimiter='\\t')\n",
        "      for row in reader:\n",
        "        category, title = row\n",
        "        processed_sentence = preprocess_sentence(title)\n",
        "        writer.writerow([category, ' '.join(processed_sentence)])\n",
        "\n",
        "retrieve_feature('train')\n",
        "retrieve_feature('valid')\n",
        "retrieve_feature('test')"
      ],
      "metadata": {
        "colab": {
          "base_uri": "https://localhost:8080/"
        },
        "id": "n-kZaLCXwO5Y",
        "outputId": "f004808d-b6d0-49c3-8972-413810a3f595"
      },
      "execution_count": 105,
      "outputs": [
        {
          "output_type": "stream",
          "name": "stderr",
          "text": [
            "[nltk_data] Downloading package averaged_perceptron_tagger to\n",
            "[nltk_data]     /root/nltk_data...\n",
            "[nltk_data]   Package averaged_perceptron_tagger is already up-to-\n",
            "[nltk_data]       date!\n",
            "[nltk_data] Downloading package punkt to /root/nltk_data...\n",
            "[nltk_data]   Package punkt is already up-to-date!\n",
            "[nltk_data] Downloading package wordnet to /root/nltk_data...\n",
            "[nltk_data]   Package wordnet is already up-to-date!\n"
          ]
        }
      ]
    },
    {
      "cell_type": "code",
      "source": [
        "# 52, 53, 54, 55\n",
        "\n",
        "import numpy as np\n",
        "import pandas as pd\n",
        "\n",
        "from sklearn.feature_extraction.text import TfidfVectorizer\n",
        "from sklearn.linear_model import LogisticRegression\n",
        "from sklearn.metrics import confusion_matrix\n",
        "\n",
        "SEED = 0\n",
        "\n",
        "vec_tfidf = TfidfVectorizer()\n",
        "\n",
        "def format_data(file_type):\n",
        "  with open(f'./{file_type}.feature.txt', mode='r') as f:\n",
        "    reader = csv.reader(f, delimiter='\\t')\n",
        "    X = []\n",
        "    Y = []\n",
        "    for news in reader:\n",
        "      category, title = news\n",
        "      X.append(title)\n",
        "      Y.append(category)\n",
        "    X = np.array(X)\n",
        "    Y = np.array(Y)\n",
        "    return X, Y\n",
        "\n",
        "\n",
        "Xtrain, Ytrain = format_data('train')\n",
        "Xtest, Ytest = format_data('test')\n",
        "Xtrain = vec_tfidf.fit_transform(Xtrain)\n",
        "Xtest = vec_tfidf.transform(Xtest)\n",
        "lr = LogisticRegression(random_state=SEED, n_jobs=-1)\n",
        "lr.fit(Xtrain, Ytrain)\n",
        "Ypred = lr.predict(Xtest)\n",
        "cm = confusion_matrix(Ytest, Ypred)\n",
        "\n",
        "print('Accuracy rate: {}'.format(sum([cm[i][i] for i in range(len(CATEGORIES))]) / np.sum(cm)))\n",
        "pd.DataFrame(cm,\n",
        "             columns=[f'Predicted {CATEGORY}' for CATEGORY in CATEGORIES],\n",
        "             index=[f'Actual {CATEGORY}' for CATEGORY in CATEGORIES])"
      ],
      "metadata": {
        "colab": {
          "base_uri": "https://localhost:8080/",
          "height": 192
        },
        "id": "sZ38bw4mmnvA",
        "outputId": "442981b1-eb42-4ceb-c9bd-7b294a530cd6"
      },
      "execution_count": 108,
      "outputs": [
        {
          "output_type": "stream",
          "name": "stdout",
          "text": [
            "Accuracy rate: 0.8770614692653673\n"
          ]
        },
        {
          "output_type": "execute_result",
          "data": {
            "text/plain": [
              "          Predicted b  Predicted t  Predicted e  Predicted m\n",
              "Actual b          523           21            3           11\n",
              "Actual t            9          501            0            3\n",
              "Actual e           15           28           52            0\n",
              "Actual m           38           36            0           94"
            ],
            "text/html": [
              "\n",
              "  <div id=\"df-81d7007c-5745-48fb-8d8b-ac138115275b\">\n",
              "    <div class=\"colab-df-container\">\n",
              "      <div>\n",
              "<style scoped>\n",
              "    .dataframe tbody tr th:only-of-type {\n",
              "        vertical-align: middle;\n",
              "    }\n",
              "\n",
              "    .dataframe tbody tr th {\n",
              "        vertical-align: top;\n",
              "    }\n",
              "\n",
              "    .dataframe thead th {\n",
              "        text-align: right;\n",
              "    }\n",
              "</style>\n",
              "<table border=\"1\" class=\"dataframe\">\n",
              "  <thead>\n",
              "    <tr style=\"text-align: right;\">\n",
              "      <th></th>\n",
              "      <th>Predicted b</th>\n",
              "      <th>Predicted t</th>\n",
              "      <th>Predicted e</th>\n",
              "      <th>Predicted m</th>\n",
              "    </tr>\n",
              "  </thead>\n",
              "  <tbody>\n",
              "    <tr>\n",
              "      <th>Actual b</th>\n",
              "      <td>523</td>\n",
              "      <td>21</td>\n",
              "      <td>3</td>\n",
              "      <td>11</td>\n",
              "    </tr>\n",
              "    <tr>\n",
              "      <th>Actual t</th>\n",
              "      <td>9</td>\n",
              "      <td>501</td>\n",
              "      <td>0</td>\n",
              "      <td>3</td>\n",
              "    </tr>\n",
              "    <tr>\n",
              "      <th>Actual e</th>\n",
              "      <td>15</td>\n",
              "      <td>28</td>\n",
              "      <td>52</td>\n",
              "      <td>0</td>\n",
              "    </tr>\n",
              "    <tr>\n",
              "      <th>Actual m</th>\n",
              "      <td>38</td>\n",
              "      <td>36</td>\n",
              "      <td>0</td>\n",
              "      <td>94</td>\n",
              "    </tr>\n",
              "  </tbody>\n",
              "</table>\n",
              "</div>\n",
              "      <button class=\"colab-df-convert\" onclick=\"convertToInteractive('df-81d7007c-5745-48fb-8d8b-ac138115275b')\"\n",
              "              title=\"Convert this dataframe to an interactive table.\"\n",
              "              style=\"display:none;\">\n",
              "        \n",
              "  <svg xmlns=\"http://www.w3.org/2000/svg\" height=\"24px\"viewBox=\"0 0 24 24\"\n",
              "       width=\"24px\">\n",
              "    <path d=\"M0 0h24v24H0V0z\" fill=\"none\"/>\n",
              "    <path d=\"M18.56 5.44l.94 2.06.94-2.06 2.06-.94-2.06-.94-.94-2.06-.94 2.06-2.06.94zm-11 1L8.5 8.5l.94-2.06 2.06-.94-2.06-.94L8.5 2.5l-.94 2.06-2.06.94zm10 10l.94 2.06.94-2.06 2.06-.94-2.06-.94-.94-2.06-.94 2.06-2.06.94z\"/><path d=\"M17.41 7.96l-1.37-1.37c-.4-.4-.92-.59-1.43-.59-.52 0-1.04.2-1.43.59L10.3 9.45l-7.72 7.72c-.78.78-.78 2.05 0 2.83L4 21.41c.39.39.9.59 1.41.59.51 0 1.02-.2 1.41-.59l7.78-7.78 2.81-2.81c.8-.78.8-2.07 0-2.86zM5.41 20L4 18.59l7.72-7.72 1.47 1.35L5.41 20z\"/>\n",
              "  </svg>\n",
              "      </button>\n",
              "      \n",
              "  <style>\n",
              "    .colab-df-container {\n",
              "      display:flex;\n",
              "      flex-wrap:wrap;\n",
              "      gap: 12px;\n",
              "    }\n",
              "\n",
              "    .colab-df-convert {\n",
              "      background-color: #E8F0FE;\n",
              "      border: none;\n",
              "      border-radius: 50%;\n",
              "      cursor: pointer;\n",
              "      display: none;\n",
              "      fill: #1967D2;\n",
              "      height: 32px;\n",
              "      padding: 0 0 0 0;\n",
              "      width: 32px;\n",
              "    }\n",
              "\n",
              "    .colab-df-convert:hover {\n",
              "      background-color: #E2EBFA;\n",
              "      box-shadow: 0px 1px 2px rgba(60, 64, 67, 0.3), 0px 1px 3px 1px rgba(60, 64, 67, 0.15);\n",
              "      fill: #174EA6;\n",
              "    }\n",
              "\n",
              "    [theme=dark] .colab-df-convert {\n",
              "      background-color: #3B4455;\n",
              "      fill: #D2E3FC;\n",
              "    }\n",
              "\n",
              "    [theme=dark] .colab-df-convert:hover {\n",
              "      background-color: #434B5C;\n",
              "      box-shadow: 0px 1px 3px 1px rgba(0, 0, 0, 0.15);\n",
              "      filter: drop-shadow(0px 1px 2px rgba(0, 0, 0, 0.3));\n",
              "      fill: #FFFFFF;\n",
              "    }\n",
              "  </style>\n",
              "\n",
              "      <script>\n",
              "        const buttonEl =\n",
              "          document.querySelector('#df-81d7007c-5745-48fb-8d8b-ac138115275b button.colab-df-convert');\n",
              "        buttonEl.style.display =\n",
              "          google.colab.kernel.accessAllowed ? 'block' : 'none';\n",
              "\n",
              "        async function convertToInteractive(key) {\n",
              "          const element = document.querySelector('#df-81d7007c-5745-48fb-8d8b-ac138115275b');\n",
              "          const dataTable =\n",
              "            await google.colab.kernel.invokeFunction('convertToInteractive',\n",
              "                                                     [key], {});\n",
              "          if (!dataTable) return;\n",
              "\n",
              "          const docLinkHtml = 'Like what you see? Visit the ' +\n",
              "            '<a target=\"_blank\" href=https://colab.research.google.com/notebooks/data_table.ipynb>data table notebook</a>'\n",
              "            + ' to learn more about interactive tables.';\n",
              "          element.innerHTML = '';\n",
              "          dataTable['output_type'] = 'display_data';\n",
              "          await google.colab.output.renderOutput(dataTable, element);\n",
              "          const docLink = document.createElement('div');\n",
              "          docLink.innerHTML = docLinkHtml;\n",
              "          element.appendChild(docLink);\n",
              "        }\n",
              "      </script>\n",
              "    </div>\n",
              "  </div>\n",
              "  "
            ]
          },
          "metadata": {},
          "execution_count": 108
        }
      ]
    },
    {
      "cell_type": "code",
      "source": [
        "# 56\n",
        "\n",
        "row_sums = np.sum(cm, axis=0)\n",
        "column_sums = np.sum(cm, axis=1)\n",
        "precisions = [cm[i][i] / row_sums[i] for i in range(len(CATEGORIES))]\n",
        "accuracies = [cm[i][i] / column_sums[i] for i in range(len(CATEGORIES))]\n",
        "F1s = [2 * precisions[i] * accuracies[i] / (precisions[i] + accuracies[i]) for i in range(len(CATEGORIES))]\n",
        "\n",
        "macro_prec_avg = sum(precisions) / len(CATEGORIES)\n",
        "macro_acc_avg = sum(accuracies) / len(CATEGORIES)\n",
        "macro_F1_avg = sum(F1s) / len(CATEGORIES)\n",
        "\n",
        "micro_prec_avg = sum([cm[i][i] for i in range(len(CATEGORIES))]) / sum([row_sums[i] for i in range(len(CATEGORIES))])\n",
        "micro_acc_avg = sum([cm[i][i] for i in range(len(CATEGORIES))]) / sum([column_sums[i] for i in range(len(CATEGORIES))])\n",
        "\n",
        "print(f'Macro P: {macro_prec_avg}')\n",
        "print(f'Macro R: {macro_acc_avg}')\n",
        "print(f'Macro F1: {macro_F1_avg}')\n",
        "\n",
        "print(f'Micro P: {micro_prec_avg}')\n",
        "print(f'Micro R: {micro_acc_avg}')"
      ],
      "metadata": {
        "colab": {
          "base_uri": "https://localhost:8080/"
        },
        "id": "JawY6NcCr9ys",
        "outputId": "643c646d-f39c-4d62-ee20-927d12e2b064"
      },
      "execution_count": 109,
      "outputs": [
        {
          "output_type": "stream",
          "name": "stdout",
          "text": [
            "Macro P: 0.8911977038256901\n",
            "Macro R: 0.7551941008435066\n",
            "Macro F1: 0.8003415763143149\n",
            "Micro P: 0.8770614692653673\n",
            "Micro R: 0.8770614692653673\n"
          ]
        }
      ]
    },
    {
      "cell_type": "code",
      "source": [
        "# 57\n",
        "print('Top10: {}'.format(np.sort(lr.coef_.ravel())[-10:]))\n",
        "print('Worst10: {}'.format(np.sort(lr.coef_.ravel())[:10]))\n"
      ],
      "metadata": {
        "colab": {
          "base_uri": "https://localhost:8080/"
        },
        "id": "EmjyR8pjxShi",
        "outputId": "3ce99b87-230c-4595-c0db-a13497a85c91"
      },
      "execution_count": 110,
      "outputs": [
        {
          "output_type": "stream",
          "name": "stdout",
          "text": [
            "Top10: [3.42027211 3.51216516 3.80779643 3.90963204 3.95099391 3.96872017\n",
            " 4.70197384 4.73831177 4.89301515 5.60654242]\n",
            "Worst10: [-3.65421856 -2.94226065 -2.86468711 -2.39312616 -2.23663201 -2.1984696\n",
            " -2.12478733 -2.11282431 -2.05598085 -2.04868052]\n"
          ]
        }
      ]
    },
    {
      "cell_type": "code",
      "source": [
        "# 58\n",
        "import matplotlib.pyplot as plt\n",
        "\n",
        "\n",
        "Xtrain, Ytrain = format_data('train')\n",
        "Xtest, Ytest = format_data('test')\n",
        "Xvalid, Yvalid = format_data('valid')\n",
        "vec_tfidf = TfidfVectorizer()\n",
        "\n",
        "Xtrain = vec_tfidf.fit_transform(Xtrain)\n",
        "Xtest = vec_tfidf.transform(Xtest)\n",
        "Xvalid = vec_tfidf.transform(Xvalid)\n",
        "\n",
        "def training_model(Xtrain, Ytrain, Xtest, Ytest, Xvalid, Yvalid, C):\n",
        "  lr = LogisticRegression(C=C, random_state=SEED, penalty='l2', n_jobs=-1)\n",
        "  lr.fit(Xtrain, Ytrain)\n",
        "\n",
        "  r_rate_train = calculate_r_rate(lr, Xtrain, Ytrain)\n",
        "  r_rate_test = calculate_r_rate(lr, Xtest, Ytest)\n",
        "  r_rate_valid = calculate_r_rate(lr, Xvalid, Yvalid)\n",
        "  \n",
        "  return r_rate_train, r_rate_test, r_rate_valid\n",
        "\n",
        "def calculate_r_rate(lr, X, Y):\n",
        "  Ypred = lr.predict(X)\n",
        "  cm = confusion_matrix(Y, Ypred)\n",
        "  r_rate = sum([cm[i][i] for i in range(len(CATEGORIES))]) / np.sum(cm)\n",
        "  return r_rate\n",
        "\n",
        "regularization_strengths = [10 ** i for i in range(-5, 5)]\n",
        "r_rates_train = []\n",
        "r_rates_test = []\n",
        "r_rates_valid = []\n",
        "for i in regularization_strengths:\n",
        "  r_rate_train, r_rate_test, r_rate_valid = training_model(Xtrain, Ytrain, Xtest, Ytest, Xvalid, Yvalid, i)\n",
        "  r_rates_train.append(r_rate_train)\n",
        "  r_rates_test.append(r_rate_test)\n",
        "  r_rates_valid.append(r_rate_valid)\n",
        "\n",
        "fig = plt.figure(figsize=(12, 8))\n",
        "ax = fig.add_subplot(111)\n",
        "plt.plot(regularization_strengths, r_rates_train)\n",
        "plt.plot(regularization_strengths, r_rates_test)\n",
        "plt.plot(regularization_strengths, r_rates_valid)\n",
        "ax.set_xscale('log')\n",
        "plt.show()"
      ],
      "metadata": {
        "colab": {
          "base_uri": "https://localhost:8080/",
          "height": 487
        },
        "id": "06gojNNq0kIs",
        "outputId": "c4120b65-ca7f-47be-efb8-da09310dbf83"
      },
      "execution_count": 112,
      "outputs": [
        {
          "output_type": "display_data",
          "data": {
            "text/plain": [
              "<Figure size 864x576 with 1 Axes>"
            ],
            "image/png": "[encoded data removed]"
          },
          "metadata": {
            "needs_background": "light"
          }
        }
      ]
    },
    {
      "cell_type": "code",
      "source": [
        "# 59\n",
        "## RandomSearch\n",
        "from sklearn.model_selection import RandomizedSearchCV\n",
        "\n",
        "estimator = LogisticRegression(random_state=SEED, n_jobs=-1)\n",
        "param_distributions = {\n",
        "    'C': list(range(1, 100, 10))\n",
        "}\n",
        "n_iter = 10\n",
        "cv = 5\n",
        "tuned_model = RandomizedSearchCV(estimator=estimator, \n",
        "                           param_distributions=param_distributions,\n",
        "                           n_iter=n_iter, \n",
        "                           random_state=SEED,\n",
        "                           cv=cv, return_train_score=False)\n",
        "\n",
        "tuned_model.fit(Xtrain, Ytrain)\n"
      ],
      "metadata": {
        "colab": {
          "base_uri": "https://localhost:8080/"
        },
        "id": "cp_4eBXF564N",
        "outputId": "25645480-87ce-41cb-cbe2-dd2c29908910"
      },
      "execution_count": 113,
      "outputs": [
        {
          "output_type": "execute_result",
          "data": {
            "text/plain": [
              "RandomizedSearchCV(cv=5,\n",
              "                   estimator=LogisticRegression(n_jobs=-1, random_state=0),\n",
              "                   param_distributions={'C': [1, 11, 21, 31, 41, 51, 61, 71, 81,\n",
              "                                              91]},\n",
              "                   random_state=0)"
            ]
          },
          "metadata": {},
          "execution_count": 113
        }
      ]
    },
    {
      "cell_type": "code",
      "source": [
        "best_parameter = tuned_model.best_params_['C']\n",
        "print(training_model(Xtrain, Ytrain, Xtest, Ytest, Xvalid, Yvalid, best_parameter))"
      ],
      "metadata": {
        "colab": {
          "base_uri": "https://localhost:8080/"
        },
        "id": "Z9Iy1ZwvB2bw",
        "outputId": "22460f96-9b9e-494f-fb3f-23a1e11709a8"
      },
      "execution_count": 114,
      "outputs": [
        {
          "output_type": "stream",
          "name": "stdout",
          "text": [
            "(0.9990629685157422, 0.9130434782608695, 0.9190404797601199)\n"
          ]
        }
      ]
    },
    {
      "cell_type": "code",
      "source": [
        "## Optuna\n",
        "!pip install optuna\n"
      ],
      "metadata": {
        "colab": {
          "base_uri": "https://localhost:8080/"
        },
        "id": "Pez9-KWT-jwI",
        "outputId": "5c704a2f-3b98-476a-bc93-ca74a5eee7ec"
      },
      "execution_count": 115,
      "outputs": [
        {
          "output_type": "stream",
          "name": "stdout",
          "text": [
            "Looking in indexes: https://pypi.org/simple, https://us-python.pkg.dev/colab-wheels/public/simple/\n",
            "Collecting optuna\n",
            "  Downloading optuna-3.1.0-py3-none-any.whl (365 kB)\n",
            "\u001b[2K     \u001b[90m━━━━━━━━━━━━━━━━━━━━━━━━━━━━━━━━━━━━━━\u001b[0m \u001b[32m365.3/365.3 KB\u001b[0m \u001b[31m12.4 MB/s\u001b[0m eta \u001b[36m0:00:00\u001b[0m\n",
            "\u001b[?25hRequirement already satisfied: tqdm in /usr/local/lib/python3.8/dist-packages (from optuna) (4.64.1)\n",
            "Requirement already satisfied: packaging>=20.0 in /usr/local/lib/python3.8/dist-packages (from optuna) (23.0)\n",
            "Requirement already satisfied: numpy in /usr/local/lib/python3.8/dist-packages (from optuna) (1.21.6)\n",
            "Collecting cmaes>=0.9.1\n",
            "  Downloading cmaes-0.9.1-py3-none-any.whl (21 kB)\n",
            "Collecting colorlog\n",
            "  Downloading colorlog-6.7.0-py2.py3-none-any.whl (11 kB)\n",
            "Requirement already satisfied: PyYAML in /usr/local/lib/python3.8/dist-packages (from optuna) (6.0)\n",
            "Requirement already satisfied: sqlalchemy>=1.3.0 in /usr/local/lib/python3.8/dist-packages (from optuna) (2.0.0)\n",
            "Collecting alembic>=1.5.0\n",
            "  Downloading alembic-1.9.2-py3-none-any.whl (210 kB)\n",
            "\u001b[2K     \u001b[90m━━━━━━━━━━━━━━━━━━━━━━━━━━━━━━━━━━━━━━\u001b[0m \u001b[32m210.6/210.6 KB\u001b[0m \u001b[31m17.4 MB/s\u001b[0m eta \u001b[36m0:00:00\u001b[0m\n",
            "\u001b[?25hCollecting Mako\n",
            "  Downloading Mako-1.2.4-py3-none-any.whl (78 kB)\n",
            "\u001b[2K     \u001b[90m━━━━━━━━━━━━━━━━━━━━━━━━━━━━━━━━━━━━━━━━\u001b[0m \u001b[32m78.7/78.7 KB\u001b[0m \u001b[31m9.7 MB/s\u001b[0m eta \u001b[36m0:00:00\u001b[0m\n",
            "\u001b[?25hRequirement already satisfied: importlib-metadata in /usr/local/lib/python3.8/dist-packages (from alembic>=1.5.0->optuna) (6.0.0)\n",
            "Requirement already satisfied: importlib-resources in /usr/local/lib/python3.8/dist-packages (from alembic>=1.5.0->optuna) (5.10.2)\n",
            "Requirement already satisfied: greenlet!=0.4.17 in /usr/local/lib/python3.8/dist-packages (from sqlalchemy>=1.3.0->optuna) (2.0.2)\n",
            "Requirement already satisfied: typing-extensions>=4.2.0 in /usr/local/lib/python3.8/dist-packages (from sqlalchemy>=1.3.0->optuna) (4.4.0)\n",
            "Requirement already satisfied: zipp>=0.5 in /usr/local/lib/python3.8/dist-packages (from importlib-metadata->alembic>=1.5.0->optuna) (3.12.0)\n",
            "Requirement already satisfied: MarkupSafe>=0.9.2 in /usr/local/lib/python3.8/dist-packages (from Mako->alembic>=1.5.0->optuna) (2.0.1)\n",
            "Installing collected packages: Mako, colorlog, cmaes, alembic, optuna\n",
            "Successfully installed Mako-1.2.4 alembic-1.9.2 cmaes-0.9.1 colorlog-6.7.0 optuna-3.1.0\n"
          ]
        }
      ]
    },
    {
      "cell_type": "code",
      "source": [
        "import optuna\n",
        "from sklearn.model_selection import cross_val_score\n",
        "\n",
        "      \n",
        "def objective(trial, x, t, cv):\n",
        "    C = trial.suggest_int('C', 1, 100)\n",
        "\n",
        "    estimator = LogisticRegression(\n",
        "      C = C,\n",
        "      random_state=SEED,\n",
        "      n_jobs=-1\n",
        "    )\n",
        "\n",
        "    print('Current_params : ', trial.params)\n",
        "    accuracy = cross_val_score(estimator, x, t, cv=cv).mean()\n",
        "    return accuracy\n",
        "\n",
        "study = optuna.create_study(direction='maximize')\n",
        "cv = 5\n",
        "study.optimize(lambda trial: objective(trial, Xtrain, Ytrain, cv), n_trials=10)\n"
      ],
      "metadata": {
        "colab": {
          "base_uri": "https://localhost:8080/"
        },
        "id": "EY413RFzBrBg",
        "outputId": "f5fe6f5c-19e4-41f1-8e6c-cc3dbdef63e9"
      },
      "execution_count": 116,
      "outputs": [
        {
          "output_type": "stream",
          "name": "stderr",
          "text": [
            "\u001b[32m[I 2023-02-05 10:03:20,085]\u001b[0m A new study created in memory with name: no-name-1b851d6e-a9ff-4009-b98a-c2be790b93e3\u001b[0m\n"
          ]
        },
        {
          "output_type": "stream",
          "name": "stdout",
          "text": [
            "Current_params :  {'C': 25}\n"
          ]
        },
        {
          "output_type": "stream",
          "name": "stderr",
          "text": [
            "\u001b[32m[I 2023-02-05 10:03:29,697]\u001b[0m Trial 0 finished with value: 0.9077964219319636 and parameters: {'C': 25}. Best is trial 0 with value: 0.9077964219319636.\u001b[0m\n"
          ]
        },
        {
          "output_type": "stream",
          "name": "stdout",
          "text": [
            "Current_params :  {'C': 54}\n"
          ]
        },
        {
          "output_type": "stream",
          "name": "stderr",
          "text": [
            "\u001b[32m[I 2023-02-05 10:03:40,613]\u001b[0m Trial 1 finished with value: 0.908452335226038 and parameters: {'C': 54}. Best is trial 1 with value: 0.908452335226038.\u001b[0m\n"
          ]
        },
        {
          "output_type": "stream",
          "name": "stdout",
          "text": [
            "Current_params :  {'C': 90}\n"
          ]
        },
        {
          "output_type": "stream",
          "name": "stderr",
          "text": [
            "\u001b[32m[I 2023-02-05 10:03:49,816]\u001b[0m Trial 2 finished with value: 0.9090145717051243 and parameters: {'C': 90}. Best is trial 2 with value: 0.9090145717051243.\u001b[0m\n"
          ]
        },
        {
          "output_type": "stream",
          "name": "stdout",
          "text": [
            "Current_params :  {'C': 94}\n"
          ]
        },
        {
          "output_type": "stream",
          "name": "stderr",
          "text": [
            "\u001b[32m[I 2023-02-05 10:03:55,663]\u001b[0m Trial 3 finished with value: 0.9091084241092691 and parameters: {'C': 94}. Best is trial 3 with value: 0.9091084241092691.\u001b[0m\n"
          ]
        },
        {
          "output_type": "stream",
          "name": "stdout",
          "text": [
            "Current_params :  {'C': 6}\n"
          ]
        },
        {
          "output_type": "stream",
          "name": "stderr",
          "text": [
            "\u001b[32m[I 2023-02-05 10:04:01,478]\u001b[0m Trial 4 finished with value: 0.9043300285990838 and parameters: {'C': 6}. Best is trial 3 with value: 0.9091084241092691.\u001b[0m\n"
          ]
        },
        {
          "output_type": "stream",
          "name": "stdout",
          "text": [
            "Current_params :  {'C': 83}\n"
          ]
        },
        {
          "output_type": "stream",
          "name": "stderr",
          "text": [
            "\u001b[32m[I 2023-02-05 10:04:07,144]\u001b[0m Trial 5 finished with value: 0.9094832630610897 and parameters: {'C': 83}. Best is trial 5 with value: 0.9094832630610897.\u001b[0m\n"
          ]
        },
        {
          "output_type": "stream",
          "name": "stdout",
          "text": [
            "Current_params :  {'C': 86}\n"
          ]
        },
        {
          "output_type": "stream",
          "name": "stderr",
          "text": [
            "\u001b[32m[I 2023-02-05 10:04:12,751]\u001b[0m Trial 6 finished with value: 0.9086399083424604 and parameters: {'C': 86}. Best is trial 5 with value: 0.9094832630610897.\u001b[0m\n"
          ]
        },
        {
          "output_type": "stream",
          "name": "stdout",
          "text": [
            "Current_params :  {'C': 56}\n"
          ]
        },
        {
          "output_type": "stream",
          "name": "stderr",
          "text": [
            "\u001b[32m[I 2023-02-05 10:04:18,411]\u001b[0m Trial 7 finished with value: 0.9085461437328938 and parameters: {'C': 56}. Best is trial 5 with value: 0.9094832630610897.\u001b[0m\n"
          ]
        },
        {
          "output_type": "stream",
          "name": "stdout",
          "text": [
            "Current_params :  {'C': 74}\n"
          ]
        },
        {
          "output_type": "stream",
          "name": "stderr",
          "text": [
            "\u001b[32m[I 2023-02-05 10:04:24,099]\u001b[0m Trial 8 finished with value: 0.9094830435746439 and parameters: {'C': 74}. Best is trial 5 with value: 0.9094832630610897.\u001b[0m\n"
          ]
        },
        {
          "output_type": "stream",
          "name": "stdout",
          "text": [
            "Current_params :  {'C': 52}\n"
          ]
        },
        {
          "output_type": "stream",
          "name": "stderr",
          "text": [
            "\u001b[32m[I 2023-02-05 10:04:29,912]\u001b[0m Trial 9 finished with value: 0.9083588778974953 and parameters: {'C': 52}. Best is trial 5 with value: 0.9094832630610897.\u001b[0m\n"
          ]
        }
      ]
    },
    {
      "cell_type": "code",
      "source": [
        "best_parameter = study.best_params['C']\n",
        "print(training_model(Xtrain, Ytrain, Xtest, Ytest, Xvalid, Yvalid, best_parameter))"
      ],
      "metadata": {
        "colab": {
          "base_uri": "https://localhost:8080/"
        },
        "id": "otYHQHC2AMJ9",
        "outputId": "9a4197c1-d5dd-4b81-a653-177ec3eef6a7"
      },
      "execution_count": 117,
      "outputs": [
        {
          "output_type": "stream",
          "name": "stdout",
          "text": [
            "(0.9991566716641679, 0.9145427286356822, 0.9197901049475262)\n"
          ]
        }
      ]
    },
    {
      "cell_type": "code",
      "source": [],
      "metadata": {
        "id": "Pkh7UHiMDLi0"
      },
      "execution_count": null,
      "outputs": []
    }
  ]
}