{
  "nbformat": 4,
  "nbformat_minor": 0,
  "metadata": {
    "colab": {
      "provenance": [],
      "authorship_tag": "ABX9TyPCYHCO2irxrB3WWlzt0/gk"
    },
    "kernelspec": {
      "name": "python3",
      "display_name": "Python 3"
    },
    "language_info": {
      "name": "python"
    },
    "accelerator": "GPU",
    "gpuClass": "standard"
  },
  "cells": [
    {
      "cell_type": "markdown",
      "source": [
        "TODO: かなりラフに書いたので後でまとめること"
      ],
      "metadata": {
        "id": "lwCgkIjud9_x"
      }
    },
    {
      "cell_type": "code",
      "source": [
        "## 同一ディレクトリ内にhttps://drive.google.com/file/d/0B7XkCwpI5KDYNlNUTTlSS21pQmM/edit?resourcekey=0-wjGZdNAUop6WykTtMip30g からダウンロードした学習済み単語ベクトルを配置しているものとする\n",
        "\n",
        "from google.colab import drive\n",
        "\n",
        "drive.mount('/content/drive')"
      ],
      "metadata": {
        "colab": {
          "base_uri": "https://localhost:8080/"
        },
        "id": "MqrVQAT9HSM4",
        "outputId": "490add40-1a54-4846-c143-55cea29eb265"
      },
      "execution_count": null,
      "outputs": [
        {
          "output_type": "stream",
          "name": "stdout",
          "text": [
            "Mounted at /content/drive\n"
          ]
        }
      ]
    },
    {
      "cell_type": "code",
      "source": [
        "from gensim.models import KeyedVectors\n",
        "\n",
        "DATASETPATH = '/content/drive/MyDrive/Colab Notebooks/NLP100/GoogleNews-vectors-negative300.bin' \n",
        "\n",
        "wv = KeyedVectors.load_word2vec_format(DATASETPATH, binary=True)"
      ],
      "metadata": {
        "id": "Xq76S6P3HX2d"
      },
      "execution_count": null,
      "outputs": []
    },
    {
      "cell_type": "code",
      "execution_count": 5,
      "metadata": {
        "colab": {
          "base_uri": "https://localhost:8080/"
        },
        "id": "qSXkdVIK3C4p",
        "outputId": "74793725-bc91-4815-e71a-b083c11c4aca"
      },
      "outputs": [
        {
          "output_type": "stream",
          "name": "stdout",
          "text": [
            "--2023-01-27 13:41:44--  https://archive.ics.uci.edu/ml/machine-learning-databases/00359/NewsAggregatorDataset.zip\n",
            "Resolving archive.ics.uci.edu (archive.ics.uci.edu)... 128.195.10.252\n",
            "Connecting to archive.ics.uci.edu (archive.ics.uci.edu)|128.195.10.252|:443... connected.\n",
            "HTTP request sent, awaiting response... 200 OK\n",
            "Length: 29224203 (28M) [application/x-httpd-php]\n",
            "Saving to: ‘NewsAggregatorDataset.zip’\n",
            "\n",
            "NewsAggregatorDatas 100%[===================>]  27.87M  34.4MB/s    in 0.8s    \n",
            "\n",
            "2023-01-27 13:41:45 (34.4 MB/s) - ‘NewsAggregatorDataset.zip’ saved [29224203/29224203]\n",
            "\n"
          ]
        }
      ],
      "source": [
        "!wget https://archive.ics.uci.edu/ml/machine-learning-databases/00359/NewsAggregatorDataset.zip"
      ]
    },
    {
      "cell_type": "code",
      "source": [
        "!unzip NewsAggregatorDataset.zip"
      ],
      "metadata": {
        "colab": {
          "base_uri": "https://localhost:8080/"
        },
        "id": "_pPhlqPp3XbX",
        "outputId": "bb306bf5-51c7-4798-bf9d-65ff89b4a35e"
      },
      "execution_count": 6,
      "outputs": [
        {
          "output_type": "stream",
          "name": "stdout",
          "text": [
            "Archive:  NewsAggregatorDataset.zip\n",
            "  inflating: 2pageSessions.csv       \n",
            "   creating: __MACOSX/\n",
            "  inflating: __MACOSX/._2pageSessions.csv  \n",
            "  inflating: newsCorpora.csv         \n",
            "  inflating: __MACOSX/._newsCorpora.csv  \n",
            "  inflating: readme.txt              \n",
            "  inflating: __MACOSX/._readme.txt   \n"
          ]
        }
      ]
    },
    {
      "cell_type": "code",
      "source": [
        "# 50の内容を複製\n",
        "\n",
        "import random\n",
        "\n",
        "TARGET_PUBLISHERS = [\n",
        "  'Reuters',\\\n",
        "  'Huffington Post',\\\n",
        "  'Businessweek',\\\n",
        "  'Contactmusic.com',\\\n",
        "  'Daily Mail'\n",
        "]\n",
        "\n",
        "with open('./newsCorpora.csv') as f:\n",
        "   all_news = [news for news in f.readlines() if news.split('\\t')[3] in TARGET_PUBLISHERS]\n",
        "\n",
        "random.shuffle(all_news)\n",
        "\n",
        "train_data_num = len(all_news)  * 8 // 10\n",
        "valid_data_num = len(all_news)  * 9 // 10\n",
        "train_data = all_news[: train_data_num]\n",
        "valid_data = all_news[train_data_num : valid_data_num]\n",
        "test_data = all_news[valid_data_num :]"
      ],
      "metadata": {
        "id": "WzRveubE3YwC"
      },
      "execution_count": 7,
      "outputs": []
    },
    {
      "cell_type": "code",
      "source": [
        "# 70\n",
        "import numpy as np\n",
        "\n",
        "\n",
        "NEWS_CATEGORIES = {\n",
        "    'b' : 0,\n",
        "    't' : 1,\n",
        "    'e' : 2,\n",
        "    'm' : 3\n",
        "}\n",
        "\n",
        "\n",
        "def vector_create(X, filepath):\n",
        "  for x in X:\n",
        "    news = x.split(\"\\t\")\n",
        "    title, category = news[1], news[4]\n",
        "    word_v = None\n",
        "    for word in title.split(' '):\n",
        "      if word:\n",
        "        try:\n",
        "          if word_v:\n",
        "            word_v = word_v + wv[word] #. most_similarで抽出しようとするとメモリが死ぬため、データセットに存在する場合のみ扱う\n",
        "          else:\n",
        "            word_v = wv[word]\n",
        "        except:\n",
        "          continue\n",
        "    if word_v is None:\n",
        "      word_v = np.zeros(300)\n",
        "    with open(f'./{filepath}_x.csv', mode='a') as f:\n",
        "        f.write(str(','.join(list([str(char) for char in word_v]))) + '\\n')\n",
        "    y = NEWS_CATEGORIES[news[4]]\n",
        "    with open(f'./{filepath}_y.csv', mode='a') as f:\n",
        "      f.write(str(y) + '\\n')\n",
        "\n",
        "vector_create(train_data, 'train')\n",
        "vector_create(valid_data, 'valid')\n",
        "vector_create(test_data, 'test')"
      ],
      "metadata": {
        "id": "H9ip-BlB3dzj"
      },
      "execution_count": 8,
      "outputs": []
    },
    {
      "cell_type": "code",
      "source": [
        "# 71\n",
        "import csv\n",
        "from scipy.special import softmax\n",
        "\n",
        "\n",
        "X_14 = []\n",
        "with open(f'./train_x.csv', mode='r') as f:\n",
        "  data = csv.reader(f)\n",
        "  i = 0\n",
        "  for row in data:\n",
        "    if i == 4:\n",
        "      break\n",
        "    X_14.append(row)\n",
        "    i += 1\n",
        "  X_14 = np.array(X_14, dtype=np.float64)\n",
        "\n",
        "W = np.zeros((X_14.shape[1], len(NEWS_CATEGORIES)))\n",
        "\n",
        "y_hat1 = softmax(np.dot(X_14[0], W))\n",
        "print(f'y_hat1: {y_hat1}')\n",
        "Y_hat = softmax(np.dot(X_14, W))\n",
        "print(f'Y_hat: {Y_hat}')\n"
      ],
      "metadata": {
        "colab": {
          "base_uri": "https://localhost:8080/"
        },
        "id": "XsVg45Pa4hD5",
        "outputId": "8acb063d-5b14-4482-9f42-481f7e106574"
      },
      "execution_count": 9,
      "outputs": [
        {
          "output_type": "stream",
          "name": "stdout",
          "text": [
            "y_hat1: [0.25 0.25 0.25 0.25]\n",
            "Y_hat: [[0.0625 0.0625 0.0625 0.0625]\n",
            " [0.0625 0.0625 0.0625 0.0625]\n",
            " [0.0625 0.0625 0.0625 0.0625]\n",
            " [0.0625 0.0625 0.0625 0.0625]]\n"
          ]
        }
      ]
    },
    {
      "cell_type": "code",
      "source": [
        "# 72\n",
        "Y_14 = []\n",
        "with open(f'./train_y.csv', mode='r') as f:\n",
        "  data = f.readlines()\n",
        "  i = 0\n",
        "  for row in data:\n",
        "    if i == 4:\n",
        "      break\n",
        "    Y_14.append(int(row.strip()))\n",
        "    i += 1\n",
        "Y_14 = np.array(Y_14)\n",
        "l1 = np.log(Y_hat[Y_14[0]])\n",
        "print(f'l1: {l1}')\n",
        "gradient1 = (Y_14[0] - Y_hat[0][Y_14[0]]) * X_14[0]\n",
        "print(f'gradient1: {gradient1}')"
      ],
      "metadata": {
        "colab": {
          "base_uri": "https://localhost:8080/"
        },
        "id": "fNkscILpYTa7",
        "outputId": "0154613e-2055-4a8c-ef1c-595e9b6a8b09"
      },
      "execution_count": 11,
      "outputs": [
        {
          "output_type": "stream",
          "name": "stdout",
          "text": [
            "l1: [-2.77258872 -2.77258872 -2.77258872 -2.77258872]\n",
            "gradient1: [ 0.21002198  0.45220948  0.09980774  0.21096802  0.11447143 -0.09318542\n",
            " -0.10406494 -0.31030273  0.40679932  0.21096802  0.41815185  0.50708008\n",
            " -0.32165526 -0.11920166 -0.12393189  0.1494751   0.36138917 -0.10548401\n",
            "  0.48815917  0.38220214 -0.07804871 -0.23840332  0.31030273  0.41436768\n",
            " -0.17501831 -0.48059083  0.47680664 -0.05510712 -0.05250549 -0.09507752\n",
            "  0.05368805  0.20718384  0.31597901 -0.0737915   0.45599365 -0.1873169\n",
            " -0.23840332  0.22421265  0.05770874 -0.11872864 -0.32733154  0.16934204\n",
            " -0.03050995  0.43896484  0.36517333 -0.36328125  0.28192138  0.57519531\n",
            " -0.00304508  0.68115234 -0.27435302  0.62438964 -0.6168213  -1.09741211\n",
            " -0.60925292  0.59033203  0.32543945 -0.18447876 -0.41815185 -0.10643005\n",
            "  0.28759766  0.55627442 -0.45220948 -0.49572755 -0.07804871 -0.4673462\n",
            " -0.15325927 -0.74926758  0.51843261  0.05628967 -0.00946045  0.34057617\n",
            " -0.22421265  0.0695343  -0.19299316  0.23556518  0.26678466 -0.06575012\n",
            " -0.10832214  0.16934204  0.17312622 -0.08372497  0.02305985 -0.84387208\n",
            "  0.20907593 -0.20150757  0.51464844  0.65466308  0.18164062 -0.04328155\n",
            "  0.24975586 -0.52978516 -0.43896484  0.10453796 -0.24786377  0.1769104\n",
            " -0.03902435 -0.03500366  0.31597901  0.22705078 -0.27246094  0.02980041\n",
            " -0.12014771 -0.2251587   0.84765625  0.30841065  0.48248292 -0.4673462\n",
            "  0.003932    0.23651123  0.24124146  0.2232666   0.3519287  -0.56005859\n",
            " -0.04824829  0.19866943 -0.72277833 -0.56384276  0.70764161  0.1494751\n",
            "  0.54492188 -0.58654786 -0.14379883 -0.04091644 -0.26110839 -0.57519531\n",
            " -0.63574219  0.23272706 -0.5222168   0.71142578 -0.4295044  -0.45977784\n",
            " -1.01416016 -0.2989502   0.45788573 -0.43707276 -0.38787841  0.47302245\n",
            "  0.67358398 -0.06716919  0.02814484 -0.39544677 -0.55249023 -0.22988892\n",
            " -0.17596435  0.13623047  0.02258682  0.04517365  0.084198   -0.0884552\n",
            "  0.20623779  0.16555786 -0.41058349  0.97631836  0.22799682  0.46166992\n",
            " -0.21948242  0.29327393  0.09034729  0.09980774  0.66223146  0.2800293\n",
            " -0.24597167 -0.07662964  0.19015503 -0.30651855  0.25543213  0.3519287\n",
            "  0.21002198 -0.39355469 -0.45220948 -0.12298584 -0.01283073  0.39923096\n",
            "  0.36895752  0.24975586 -0.07000732 -0.24597167  0.03405762 -0.05416107\n",
            " -0.4673462  -0.13055419  0.0442276  -0.13150024  0.07237244 -0.11494446\n",
            "  0.07473755 -0.37652588 -0.05770874  0.25543213 -0.17974854  0.02542496\n",
            "  0.6168213   0.13717651 -0.18164062  0.11636353  0.32354737 -0.2232666\n",
            " -0.64331055 -0.25354005  0.58276367  0.06243896 -1.36987305  0.0014782\n",
            "  0.26300049 -0.43328857 -0.08372497  0.04399109 -0.71520995 -0.35382081\n",
            " -0.26678466 -0.19299316 -0.07284546 -0.06669617 -0.46923828  0.43518067\n",
            " -0.04682922  0.22705078 -0.55627442  0.33300781  0.0884552   0.28570557\n",
            " -0.02755356  0.11778259  0.03500366 -0.36328125 -0.22610474  0.46166992\n",
            "  0.28381349 -0.04280853 -0.09791565 -0.12582397 -0.484375   -0.16082763\n",
            "  0.12203979 -0.2043457   0.02920914 -0.03736878 -0.02022171 -0.2232666\n",
            "  0.2043457  -0.38977052  0.48815917  0.21853638 -0.48815917  0.1494751\n",
            " -0.06811523 -0.22232056 -0.19772339  0.1494751   0.15231323 -0.01762009\n",
            " -0.17407227  0.30462646  0.15893555  0.39355469 -0.09886169 -0.07237244\n",
            "  0.28948974  0.14852905  0.16271973  0.22421265 -0.42382812  0.28948974\n",
            "  0.02554321  0.58276367 -0.36328125  0.31787109 -0.21664429 -0.20907593\n",
            " -0.2989502  -0.2421875  -0.19961548  0.39544677  0.19488526 -0.00934219\n",
            " -0.15231323 -0.06385803  0.53356933  0.2592163   0.14758301  0.70764161\n",
            "  0.04186249  0.01336288 -0.05818176 -0.3746338   0.2147522  -0.27813721\n",
            " -0.20056152 -0.02991867 -0.51843261  0.17123413 -0.00881004  0.20529175\n",
            "  0.55627442  0.56005859  0.03145599 -0.16555786 -0.12866211 -0.15325927]\n"
          ]
        }
      ]
    },
    {
      "cell_type": "code",
      "source": [
        "ls = []\n",
        "for i in range(4):\n",
        "  l = -1 * np.log(Y_hat[Y_14[i]])\n",
        "  ls.append(l)\n",
        "gradient = gradient1\n",
        "print(np.average(l))\n",
        "for i in range(1,4):\n",
        "  gradient += (Y_14[i] - Y_hat[i][Y_14[i]]) * X_14[i]\n",
        "gradient = gradient / 4\n",
        "print(f'gradient: {gradient}')"
      ],
      "metadata": {
        "colab": {
          "base_uri": "https://localhost:8080/"
        },
        "id": "Ehh_qfaGaLd7",
        "outputId": "5241f59f-89ee-4f87-cd57-7065a2200cd8"
      },
      "execution_count": 12,
      "outputs": [
        {
          "output_type": "stream",
          "name": "stdout",
          "text": [
            "2.772588722239781\n",
            "gradient: [ 4.84695447e-02  1.15346910e-01  2.00462341e-02  4.44412238e-02\n",
            "  3.56369012e-02 -2.28614807e-02 -2.21939090e-02 -7.05089569e-02\n",
            "  1.07848169e-01  4.97436530e-02  1.10449790e-01  1.27222061e-01\n",
            " -7.87048317e-02 -2.79150011e-02 -2.39934923e-02  3.20510877e-02\n",
            "  9.58480846e-02 -2.66418460e-02  1.20162961e-01  9.89074684e-02\n",
            " -1.90277099e-02 -6.34155273e-02  7.05184938e-02  9.96551527e-02\n",
            " -4.36401360e-02 -1.29019740e-01  1.26808167e-01 -2.73571015e-02\n",
            " -1.16786960e-02 -3.78074649e-02  8.37135319e-03  5.72433472e-02\n",
            "  7.12585461e-02 -1.44958498e-02  1.11485480e-01 -4.25109877e-02\n",
            " -5.18188476e-02  6.16168975e-02  1.77764892e-02 -2.04124450e-02\n",
            " -7.87124623e-02  4.37717438e-02 -1.10988616e-02  9.77630614e-02\n",
            "  8.59260546e-02 -8.89587402e-02  7.87658680e-02  1.36291504e-01\n",
            " -3.42011455e-03  1.65016174e-01 -6.03256212e-02  1.48996351e-01\n",
            " -1.52532580e-01 -2.78146744e-01 -1.43035886e-01  1.38290405e-01\n",
            "  9.34906006e-02 -4.22363283e-02 -1.03294371e-01 -2.00805662e-02\n",
            "  7.48138427e-02  1.42173769e-01 -1.11184121e-01 -1.32862093e-01\n",
            " -2.60314941e-02 -1.07576371e-01 -5.24635302e-02 -1.82708740e-01\n",
            "  1.29063604e-01  1.70364377e-02  1.02539061e-02  8.51899386e-02\n",
            " -5.82046507e-02  1.02596283e-02 -3.89251710e-02  6.00624078e-02\n",
            "  5.56030262e-02 -2.71415711e-02 -2.22854615e-02  3.82537844e-02\n",
            "  5.36880500e-02 -7.19833344e-03  7.68947605e-03 -2.08435061e-01\n",
            "  4.72644565e-02 -5.19752501e-02  1.38099670e-01  1.69410703e-01\n",
            "  4.89730835e-02 -2.53467559e-02  6.85958862e-02 -1.22497559e-01\n",
            " -1.00215912e-01  2.19001769e-02 -6.07881558e-02  4.91561891e-02\n",
            " -9.23347497e-03 -2.62522697e-03  6.50448810e-02  5.88779450e-02\n",
            " -5.43518066e-02 -6.25610361e-03 -3.29017645e-02 -5.79605115e-02\n",
            "  2.12131500e-01  7.36770642e-02  1.17599489e-01 -1.15629197e-01\n",
            "  6.46090514e-03  6.37817370e-02  5.25321968e-02  5.35125732e-02\n",
            "  9.13333868e-02 -1.41324997e-01 -7.50732444e-03  5.58013903e-02\n",
            " -1.69624331e-01 -1.37344358e-01  1.66503909e-01  3.47290050e-02\n",
            "  1.48979187e-01 -1.34918215e-01 -2.78625488e-02 -7.61413566e-03\n",
            " -7.13691687e-02 -1.37718201e-01 -1.54521942e-01  5.65586102e-02\n",
            " -1.19102478e-01  1.77612305e-01 -1.12771989e-01 -1.15577699e-01\n",
            " -2.46738434e-01 -6.80904413e-02  1.21122358e-01 -1.08444215e-01\n",
            " -9.83061779e-02  1.22722623e-01  1.67438149e-01 -1.06201177e-02\n",
            " -7.67326364e-03 -9.19799791e-02 -1.40037537e-01 -6.09436036e-02\n",
            " -4.30119027e-02  3.79180909e-02  1.14536289e-03  6.97422034e-03\n",
            "  2.45704645e-02 -2.22206116e-02  4.90417469e-02  5.06477362e-02\n",
            " -1.03290557e-01  2.50671387e-01  4.76150506e-02  1.12968445e-01\n",
            " -4.90417480e-02  7.56645215e-02  1.72271731e-02  2.99911499e-02\n",
            "  1.69683459e-01  7.13958740e-02 -5.65776801e-02 -6.18743844e-03\n",
            "  3.91311639e-02 -7.60364510e-02  6.50787366e-02  8.69483923e-02\n",
            "  5.33447277e-02 -1.02699280e-01 -1.02294923e-01 -2.95572269e-02\n",
            " -7.52592093e-03  1.02569581e-01  9.54856884e-02  7.71789550e-02\n",
            " -1.77993773e-02 -5.74798561e-02  4.53567508e-03  2.60353075e-03\n",
            " -1.20292665e-01 -2.84004200e-02  8.80622841e-03 -3.55663301e-02\n",
            "  1.31034852e-02 -3.29360962e-02  1.72576910e-02 -7.95745863e-02\n",
            " -1.29623412e-02  5.72881711e-02 -3.75938428e-02  1.84068681e-02\n",
            "  1.60118105e-01  3.43322748e-02 -4.26750183e-02  2.92944909e-02\n",
            "  8.28590405e-02 -5.17654420e-02 -1.65113606e-01 -4.88739039e-02\n",
            "  1.42539978e-01  1.25541684e-02 -3.43151093e-01 -1.78241733e-03\n",
            "  7.26002243e-02 -1.08852385e-01 -2.67753598e-02  1.18904113e-02\n",
            " -1.75418851e-01 -8.89835370e-02 -6.59996855e-02 -4.33959960e-02\n",
            " -1.81503295e-02 -2.97203064e-02 -1.12106323e-01  1.08291628e-01\n",
            " -2.13050842e-02  6.27746581e-02 -1.38267341e-01  8.28247070e-02\n",
            "  3.00111772e-02  7.55157483e-02  8.63075531e-04  2.84545423e-02\n",
            "  2.05917357e-02 -8.89739991e-02 -6.12068182e-02  1.22612000e-01\n",
            "  6.08673120e-02  7.57217234e-04 -2.48556140e-02 -3.21578977e-02\n",
            " -1.23322010e-01 -4.03175341e-02  3.60336298e-02 -5.62438965e-02\n",
            "  9.61780573e-03 -1.52206424e-02 -2.83527384e-03 -4.92630005e-02\n",
            "  5.15546799e-02 -9.48028588e-02  1.20716093e-01  5.40473467e-02\n",
            " -1.21967313e-01  3.52630628e-02 -1.84893608e-02 -5.77781202e-02\n",
            " -3.78036492e-02  4.85610974e-02  3.42998499e-02 -3.64899624e-03\n",
            " -4.50401307e-02  7.09838856e-02  3.72247695e-02  9.59167481e-02\n",
            " -3.21426389e-02 -1.78661348e-02  6.47888171e-02  3.89709472e-02\n",
            "  4.06131744e-02  5.32684325e-02 -1.01301193e-01  7.62176502e-02\n",
            " -1.97505939e-03  1.44079208e-01 -8.08792113e-02  8.04443359e-02\n",
            " -5.35068511e-02 -5.60188292e-02 -7.01723123e-02 -6.49695396e-02\n",
            " -5.33328058e-02  9.81483447e-02  4.29153453e-02 -1.33025646e-03\n",
            " -3.74832147e-02 -2.24952696e-02  1.33430479e-01  5.87329853e-02\n",
            "  3.84216309e-02  1.68342593e-01  1.36353969e-02 -2.60352989e-04\n",
            " -2.28872300e-02 -1.00589755e-01  6.10275270e-02 -7.79956592e-02\n",
            " -5.09466529e-02 -1.38959884e-02 -1.28885267e-01  4.14352417e-02\n",
            "  2.19011314e-03  4.59976191e-02  1.37374880e-01  1.38626099e-01\n",
            "  8.80432150e-03 -4.48904043e-02 -3.84521484e-02 -3.86085498e-02]\n"
          ]
        }
      ]
    },
    {
      "cell_type": "code",
      "source": [
        "# 73\n",
        "\n",
        "EPOCH = 100\n",
        "\n",
        "X = []\n",
        "with open(f'./train_x.csv', mode='r') as f:\n",
        "  data = csv.reader(f)\n",
        "  i = 0\n",
        "  for row in data:\n",
        "    X.append(row)\n",
        "    i += 1\n",
        "X = np.array(X, dtype=np.float64)\n",
        "\n",
        "W = np.zeros((len(NEWS_CATEGORIES), X_14.shape[1]))\n",
        "\n",
        "Y = []\n",
        "with open(f'./train_y.csv', mode='r') as f:\n",
        "  data = f.readlines()\n",
        "  i = 0\n",
        "  for row in data:\n",
        "    add_row = [0] * len(NEWS_CATEGORIES)\n",
        "    add_row[int(row.strip())] =1\n",
        "    Y.append(add_row)\n",
        "    i += 1\n",
        "Y = np.array(Y)\n",
        "\n",
        "eta = 1.0\n",
        "for i in range(EPOCH):\n",
        "  i = np.random.randint(0, X.shape[0])\n",
        "  y_hat = softmax(np.dot(W, X[i]))\n",
        "  grad = Y[i] - y_hat\n",
        "  for j in range(grad.shape[0]):\n",
        "    W[j] += eta * grad[j] * X[i]\n",
        "print(W)"
      ],
      "metadata": {
        "colab": {
          "base_uri": "https://localhost:8080/"
        },
        "id": "gB23vOHAast_",
        "outputId": "415b7aa8-5992-48be-dba7-e768f0641469"
      },
      "execution_count": 13,
      "outputs": [
        {
          "output_type": "stream",
          "name": "stdout",
          "text": [
            "[[-0.41490573 -0.20554271 -0.93470456 ... -1.03232535  0.63409774\n",
            "   0.82805858]\n",
            " [ 0.98673899 -0.28574666  0.01308324 ...  0.01967559 -1.38415\n",
            "  -0.64282137]\n",
            " [ 0.02141252  0.31306271  0.19188612 ...  0.75180286 -0.22455328\n",
            "   0.04309412]\n",
            " [-0.59324578  0.17822667  0.7297352  ...  0.2608469   0.97460555\n",
            "  -0.22833133]]\n"
          ]
        }
      ]
    },
    {
      "cell_type": "code",
      "source": [
        "# 74\n",
        "correct = 0\n",
        "for i in range(X.shape[0]):\n",
        "  p = softmax(np.dot(W, X[i]))\n",
        "  index = np.where(p == np.max(p))\n",
        "  if (Y[i][index] == 1)[0]:\n",
        "    correct += 1\n",
        "print(correct/X.shape[0])\n"
      ],
      "metadata": {
        "colab": {
          "base_uri": "https://localhost:8080/"
        },
        "id": "7_KQ5M_phB5W",
        "outputId": "e7f27cb1-b613-439f-c489-fe83990a0418"
      },
      "execution_count": 14,
      "outputs": [
        {
          "output_type": "stream",
          "name": "stdout",
          "text": [
            "0.5478285286409584\n"
          ]
        }
      ]
    },
    {
      "cell_type": "code",
      "source": [
        "# 75\n",
        "\n",
        "EPOCH = 100\n",
        "\n",
        "X = []\n",
        "with open(f'./train_x.csv', mode='r') as f:\n",
        "  data = csv.reader(f)\n",
        "  i = 0\n",
        "  for row in data:\n",
        "    X.append(row)\n",
        "    i += 1\n",
        "X = np.array(X, dtype=np.float64)\n",
        "\n",
        "\n",
        "Y = []\n",
        "with open(f'./train_y.csv', mode='r') as f:\n",
        "  data = f.readlines()\n",
        "  i = 0\n",
        "  for row in data:\n",
        "    add_row = [0] * len(NEWS_CATEGORIES)\n",
        "    add_row[int(row.strip())] =1\n",
        "    Y.append(add_row)\n",
        "    i += 1\n",
        "Y = np.array(Y)\n",
        "\n",
        "W = np.zeros((len(NEWS_CATEGORIES), X.shape[1]))\n",
        "\n",
        "\n",
        "valid_X = []\n",
        "with open(f'./valid_x.csv', mode='r') as f:\n",
        "  data = csv.reader(f)\n",
        "  i = 0\n",
        "  for row in data:\n",
        "    valid_X.append(row)\n",
        "    i += 1\n",
        "valid_X = np.array(valid_X, dtype=np.float64)\n",
        "\n",
        "valid_Y = []\n",
        "with open(f'./valid_y.csv', mode='r') as f:\n",
        "  data = f.readlines()\n",
        "  i = 0\n",
        "  for row in data:\n",
        "    add_row = [0] * len(NEWS_CATEGORIES)\n",
        "    add_row[int(row.strip())] =1\n",
        "    valid_Y.append(add_row)\n",
        "    i += 1\n",
        "valid_Y = np.array(valid_Y)\n",
        "\n",
        "\n",
        "eta = 1.0\n",
        "train_losses = []\n",
        "train_correctness = []\n",
        "test_losses = []\n",
        "test_correctness = []\n",
        "for i in range(EPOCH):\n",
        "  i = np.random.randint(0, X.shape[0])\n",
        "  y_hat = softmax(np.dot(W, X[i]))\n",
        "  index = np.where(Y[i] == 1)\n",
        "  l = -1 * np.log(y_hat[index])\n",
        "  grad = Y[i] - y_hat\n",
        "  for j in range(grad.shape[0]):\n",
        "    W[j] += eta * grad[j] * X[i]\n",
        "  correct = 0\n",
        "  l = 0\n",
        "  for i in range(X.shape[0]):\n",
        "    p = softmax(np.dot(W, X[i]))\n",
        "    index = np.where(Y[i] == 1)\n",
        "    l = -1 * np.log(p[index])\n",
        "    max_index = np.where(p == np.max(p))\n",
        "    if (Y[i][max_index] == 1)[0]:\n",
        "      correct += 1\n",
        "  train_losses.append(l)\n",
        "  train_correctness.append(correct/X.shape[0])\n",
        "\n",
        "  correct = 0\n",
        "  l = 0\n",
        "  for i in range(valid_X.shape[0]):\n",
        "    p = softmax(np.dot(W, valid_X[i]))\n",
        "    index = np.where(valid_Y[i] == 1)\n",
        "    l = -1 * np.log(p[index])\n",
        "    max_index = np.where(p == np.max(p))\n",
        "    if (valid_Y[i][max_index] == 1)[0]:\n",
        "      correct += 1\n",
        "  test_losses.append(l)\n",
        "  test_correctness.append(correct/valid_X.shape[0])\n"
      ],
      "metadata": {
        "id": "L5KxD-a4kvGZ"
      },
      "execution_count": 15,
      "outputs": []
    },
    {
      "cell_type": "code",
      "source": [
        "import matplotlib.pyplot as plt\n",
        "\n",
        "plt.plot([i for i in range(EPOCH)], train_losses, label=\"Loss function(training)\")\n",
        "plt.plot([i for i in range(EPOCH)], test_losses, label=\"Loss function(test)\")\n",
        "\n",
        "plt.legend()\n",
        "plt.show()"
      ],
      "metadata": {
        "colab": {
          "base_uri": "https://localhost:8080/",
          "height": 265
        },
        "id": "9UhPSfm2mN63",
        "outputId": "8b3d1ce7-9d19-429d-a301-fa51aeeac606"
      },
      "execution_count": 16,
      "outputs": [
        {
          "output_type": "display_data",
          "data": {
            "text/plain": [
              "<Figure size 432x288 with 1 Axes>"
            ],
            "image/png": "[encoded data removed]"
          },
          "metadata": {
            "needs_background": "light"
          }
        }
      ]
    },
    {
      "cell_type": "code",
      "source": [
        "plt.plot([i for i in range(EPOCH)], train_correctness, label=\"Accuracy(training)\")\n",
        "plt.plot([i for i in range(EPOCH)], test_correctness, label=\"Accuracy(test)\")\n",
        "\n",
        "plt.legend()\n",
        "plt.show()"
      ],
      "metadata": {
        "colab": {
          "base_uri": "https://localhost:8080/",
          "height": 265
        },
        "id": "RVWo7fpzmizO",
        "outputId": "ef98043a-2028-4aae-c226-3a8e648d9f20"
      },
      "execution_count": 18,
      "outputs": [
        {
          "output_type": "display_data",
          "data": {
            "text/plain": [
              "<Figure size 432x288 with 1 Axes>"
            ],
            "image/png": "[encoded data removed]"
          },
          "metadata": {
            "needs_background": "light"
          }
        }
      ]
    },
    {
      "cell_type": "code",
      "source": [
        "#76\n",
        "import csv\n",
        "\n",
        "\n",
        "EPOCH = 100\n",
        "\n",
        "X = []\n",
        "with open(f'./train_x.csv', mode='r') as f:\n",
        "  data = csv.reader(f)\n",
        "  i = 0\n",
        "  for row in data:\n",
        "    X.append(row)\n",
        "    i += 1\n",
        "X = np.array(X, dtype=np.float64)\n",
        "\n",
        "\n",
        "Y = []\n",
        "with open(f'./train_y.csv', mode='r') as f:\n",
        "  data = f.readlines()\n",
        "  i = 0\n",
        "  for row in data:\n",
        "    add_row = [0] * len(NEWS_CATEGORIES)\n",
        "    add_row[int(row.strip())] =1\n",
        "    Y.append(add_row)\n",
        "    i += 1\n",
        "Y = np.array(Y)\n",
        "\n",
        "W = np.zeros((len(NEWS_CATEGORIES), X.shape[1]))\n",
        "\n",
        "\n",
        "valid_X = []\n",
        "with open(f'./valid_x.csv', mode='r') as f:\n",
        "  data = csv.reader(f)\n",
        "  i = 0\n",
        "  for row in data:\n",
        "    valid_X.append(row)\n",
        "    i += 1\n",
        "valid_X = np.array(valid_X, dtype=np.float64)\n",
        "\n",
        "valid_Y = []\n",
        "with open(f'./valid_y.csv', mode='r') as f:\n",
        "  data = f.readlines()\n",
        "  i = 0\n",
        "  for row in data:\n",
        "    add_row = [0] * len(NEWS_CATEGORIES)\n",
        "    add_row[int(row.strip())] =1\n",
        "    valid_Y.append(add_row)\n",
        "    i += 1\n",
        "valid_Y = np.array(valid_Y)\n",
        "\n",
        "\n",
        "eta = 1.0\n",
        "with open(f'./checkpoint.csv', mode='a') as f:\n",
        "  writer = csv.writer(f)\n",
        "  writer.writerow(['epoch', 'W', 'l', 'grad'])\n",
        "for i in range(EPOCH):\n",
        "  i = np.random.randint(0, X.shape[0])\n",
        "  y_hat = softmax(np.dot(W, X[i]))\n",
        "  index = np.where(Y[i] == 1)\n",
        "  l = -1 * np.log(y_hat[index])\n",
        "  grad = Y[i] - y_hat\n",
        "  for j in range(grad.shape[0]):\n",
        "    W[j] += eta * grad[j] * X[i]\n",
        "  with open(f'./checkpoint.csv', mode='a') as f:\n",
        "    writer = csv.writer(f)\n",
        "    writer.writerow([i, W, l, grad])\n"
      ],
      "metadata": {
        "id": "m1s0ybw2Zlzs"
      },
      "execution_count": 19,
      "outputs": []
    },
    {
      "cell_type": "code",
      "source": [
        "# 77 \n",
        "import time\n",
        "\n",
        "\n",
        "EPOCH = 100\n",
        "B = [1, 2, 4, 8, 16, 32]\n",
        "\n",
        "X = []\n",
        "with open(f'./train_x.csv', mode='r') as f:\n",
        "  data = csv.reader(f)\n",
        "  i = 0\n",
        "  for row in data:\n",
        "    X.append(row)\n",
        "    i += 1\n",
        "X = np.array(X, dtype=np.float64)\n",
        "\n",
        "\n",
        "Y = []\n",
        "with open(f'./train_y.csv', mode='r') as f:\n",
        "  data = f.readlines()\n",
        "  i = 0\n",
        "  for row in data:\n",
        "    add_row = [0] * len(NEWS_CATEGORIES)\n",
        "    add_row[int(row.strip())] =1\n",
        "    Y.append(add_row)\n",
        "    i += 1\n",
        "Y = np.array(Y)\n",
        "\n",
        "W = np.zeros((len(NEWS_CATEGORIES), X.shape[1]))\n",
        "\n",
        "\n",
        "valid_X = []\n",
        "with open(f'./valid_x.csv', mode='r') as f:\n",
        "  data = csv.reader(f)\n",
        "  i = 0\n",
        "  for row in data:\n",
        "    valid_X.append(row)\n",
        "    i += 1\n",
        "valid_X = np.array(valid_X, dtype=np.float64)\n",
        "\n",
        "valid_Y = []\n",
        "with open(f'./valid_y.csv', mode='r') as f:\n",
        "  data = f.readlines()\n",
        "  i = 0\n",
        "  for row in data:\n",
        "    add_row = [0] * len(NEWS_CATEGORIES)\n",
        "    add_row[int(row.strip())] =1\n",
        "    valid_Y.append(add_row)\n",
        "    i += 1\n",
        "valid_Y = np.array(valid_Y)\n",
        "\n",
        "\n",
        "eta = 1.0\n",
        "for b in B:\n",
        "  start_at = time.perf_counter()\n",
        "  l = 0\n",
        "  for i in range(EPOCH):\n",
        "    ls = []\n",
        "    grad = None\n",
        "    for j in range(b):\n",
        "      i = np.random.randint(0, X.shape[0])\n",
        "      y_hat = softmax(np.dot(W, X[i]))\n",
        "      index = np.where(Y[i] == 1)\n",
        "      ls.append(-1 * np.log(y_hat[index]))\n",
        "      if grad is not None:\n",
        "        grad = grad + (Y[i] - y_hat)\n",
        "      else:\n",
        "          grad = Y[i] - y_hat\n",
        "    l += sum(ls) / b\n",
        "    grad = grad / b\n",
        "    for j in range(grad.shape[0]):\n",
        "      W[j] += eta * grad[j] * X[i]\n",
        "  end_at = time.perf_counter()\n",
        "  print(f'Batch {b}: {end_at - start_at}')\n"
      ],
      "metadata": {
        "colab": {
          "base_uri": "https://localhost:8080/"
        },
        "id": "OtOqYzLya729",
        "outputId": "b4b37e3c-36a3-4893-c030-d25da94fe496"
      },
      "execution_count": 20,
      "outputs": [
        {
          "output_type": "stream",
          "name": "stdout",
          "text": [
            "Batch 1: 0.016693071000076998\n",
            "Batch 2: 0.03800438199994005\n",
            "Batch 4: 0.04392093100000238\n",
            "Batch 8: 0.04579446500008544\n",
            "Batch 16: 0.10916968100002578\n",
            "Batch 32: 0.177513941999905\n"
          ]
        }
      ]
    },
    {
      "cell_type": "code",
      "source": [
        "# 78\n"
      ],
      "metadata": {
        "id": "hBr1_9JgcRQU"
      },
      "execution_count": null,
      "outputs": []
    },
    {
      "cell_type": "code",
      "source": [
        "# 79\n",
        "\n",
        "\n",
        "EPOCH = 100\n",
        "\n",
        "X = []\n",
        "with open(f'./train_x.csv', mode='r') as f:\n",
        "  data = csv.reader(f)\n",
        "  i = 0\n",
        "  for row in data:\n",
        "    X.append(row)\n",
        "    i += 1\n",
        "X = np.array(X, dtype=np.float64)\n",
        "\n",
        "\n",
        "Y = []\n",
        "with open(f'./train_y.csv', mode='r') as f:\n",
        "  data = f.readlines()\n",
        "  i = 0\n",
        "  for row in data:\n",
        "    add_row = [0] * len(NEWS_CATEGORIES)\n",
        "    add_row[int(row.strip())] =1\n",
        "    Y.append(add_row)\n",
        "    i += 1\n",
        "Y = np.array(Y)\n",
        "\n",
        "W = np.zeros((len(NEWS_CATEGORIES), X.shape[1]))\n",
        "\n",
        "B = np.array([0.1, 0.1, 0.1, 0.1])\n",
        "\n",
        "\n",
        "valid_X = []\n",
        "with open(f'./valid_x.csv', mode='r') as f:\n",
        "  data = csv.reader(f)\n",
        "  i = 0\n",
        "  for row in data:\n",
        "    valid_X.append(row)\n",
        "    i += 1\n",
        "valid_X = np.array(valid_X, dtype=np.float64)\n",
        "\n",
        "valid_Y = []\n",
        "with open(f'./valid_y.csv', mode='r') as f:\n",
        "  data = f.readlines()\n",
        "  i = 0\n",
        "  for row in data:\n",
        "    add_row = [0] * len(NEWS_CATEGORIES)\n",
        "    add_row[int(row.strip())] =1\n",
        "    valid_Y.append(add_row)\n",
        "    i += 1\n",
        "valid_Y = np.array(valid_Y)\n",
        "\n",
        "\n",
        "eta = 1.0\n",
        "train_losses = []\n",
        "train_correctness = []\n",
        "test_losses = []\n",
        "test_correctness = []\n",
        "for i in range(EPOCH):\n",
        "  i = np.random.randint(0, X.shape[0])\n",
        "  y_hat = softmax(np.dot(W, X[i]) + B)\n",
        "  index = np.where(Y[i] == 1)\n",
        "  l = -1 * np.log(y_hat[index])\n",
        "  grad = Y[i] - y_hat\n",
        "  for j in range(grad.shape[0]):\n",
        "    W[j] += eta * grad[j] * X[i]\n",
        "  correct = 0\n",
        "  l = 0\n",
        "  for i in range(X.shape[0]):\n",
        "    p = softmax(np.dot(W, X[i]))\n",
        "    index = np.where(Y[i] == 1)\n",
        "    l = -1 * np.log(p[index])\n",
        "    max_index = np.where(p == np.max(p))\n",
        "    if (Y[i][max_index] == 1)[0]:\n",
        "      correct += 1\n",
        "  train_losses.append(l)\n",
        "  train_correctness.append(correct/X.shape[0])\n",
        "\n",
        "  correct = 0\n",
        "  l = 0\n",
        "  for i in range(valid_X.shape[0]):\n",
        "    p = softmax(np.dot(W, valid_X[i]))\n",
        "    index = np.where(valid_Y[i] == 1)\n",
        "    l = -1 * np.log(p[index])\n",
        "    max_index = np.where(p == np.max(p))\n",
        "    if (valid_Y[i][max_index] == 1)[0]:\n",
        "      correct += 1\n",
        "  test_losses.append(l)\n",
        "  test_correctness.append(correct/valid_X.shape[0])\n",
        "\n",
        "\n"
      ],
      "metadata": {
        "id": "eiZBSnXNeqfk"
      },
      "execution_count": 23,
      "outputs": []
    },
    {
      "cell_type": "code",
      "source": [
        "import matplotlib.pyplot as plt\n",
        "\n",
        "plt.plot([i for i in range(EPOCH)], train_losses, label=\"Loss function(training)\")\n",
        "plt.plot([i for i in range(EPOCH)], test_losses, label=\"Loss function(test)\")\n",
        "\n",
        "plt.legend()\n",
        "plt.show()"
      ],
      "metadata": {
        "colab": {
          "base_uri": "https://localhost:8080/",
          "height": 266
        },
        "id": "IbDGUr03hCV2",
        "outputId": "6179d044-8877-46e7-f80b-7dd30513a9b9"
      },
      "execution_count": 24,
      "outputs": [
        {
          "output_type": "display_data",
          "data": {
            "text/plain": [
              "<Figure size 432x288 with 1 Axes>"
            ],
            "image/png": "[encoded data removed]"
          },
          "metadata": {
            "needs_background": "light"
          }
        }
      ]
    },
    {
      "cell_type": "code",
      "source": [
        "plt.plot([i for i in range(EPOCH)], train_correctness, label=\"Accuracy(training)\")\n",
        "plt.plot([i for i in range(EPOCH)], test_correctness, label=\"Accuracy(test)\")\n",
        "\n",
        "plt.legend()\n",
        "plt.show()"
      ],
      "metadata": {
        "colab": {
          "base_uri": "https://localhost:8080/",
          "height": 265
        },
        "id": "zuAIA9NthEbJ",
        "outputId": "2622514a-4f44-4b7f-cda6-a1d5b591f1c4"
      },
      "execution_count": 25,
      "outputs": [
        {
          "output_type": "display_data",
          "data": {
            "text/plain": [
              "<Figure size 432x288 with 1 Axes>"
            ],
            "image/png": "[encoded data removed]"
          },
          "metadata": {
            "needs_background": "light"
          }
        }
      ]
    }
  ]
}