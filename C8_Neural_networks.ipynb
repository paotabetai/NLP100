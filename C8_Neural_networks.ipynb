{
  "nbformat": 4,
  "nbformat_minor": 0,
  "metadata": {
    "colab": {
      "provenance": [],
      "authorship_tag": "ABX9TyPt43DkM8sV/EwOumXtZYDl"
    },
    "kernelspec": {
      "name": "python3",
      "display_name": "Python 3"
    },
    "language_info": {
      "name": "python"
    }
  },
  "cells": [
    {
      "cell_type": "code",
      "source": [
        "## 同一ディレクトリ内にhttps://drive.google.com/file/d/0B7XkCwpI5KDYNlNUTTlSS21pQmM/edit?resourcekey=0-wjGZdNAUop6WykTtMip30g からダウンロードした学習済み単語ベクトルを配置しているものとする\n",
        "\n",
        "from google.colab import drive\n",
        "\n",
        "drive.mount('/content/drive')"
      ],
      "metadata": {
        "colab": {
          "base_uri": "https://localhost:8080/"
        },
        "id": "MqrVQAT9HSM4",
        "outputId": "fe009d54-1282-4f3f-b3ff-102ffa3ec052"
      },
      "execution_count": 1,
      "outputs": [
        {
          "output_type": "stream",
          "name": "stdout",
          "text": [
            "Drive already mounted at /content/drive; to attempt to forcibly remount, call drive.mount(\"/content/drive\", force_remount=True).\n"
          ]
        }
      ]
    },
    {
      "cell_type": "code",
      "source": [
        "from gensim.models import KeyedVectors\n",
        "\n",
        "DATASETPATH = '/content/drive/MyDrive/Colab Notebooks/NLP100/GoogleNews-vectors-negative300.bin' \n",
        "\n",
        "wv = KeyedVectors.load_word2vec_format(DATASETPATH, binary=True)"
      ],
      "metadata": {
        "id": "Xq76S6P3HX2d",
        "colab": {
          "base_uri": "https://localhost:8080/",
          "height": 381
        },
        "outputId": "3d3b92e8-4fe0-45d3-db37-c44db1c2adb4"
      },
      "execution_count": 14,
      "outputs": [
        {
          "output_type": "error",
          "ename": "UnpicklingError",
          "evalue": "ignored",
          "traceback": [
            "\u001b[0;31m---------------------------------------------------------------------------\u001b[0m",
            "\u001b[0;31mUnpicklingError\u001b[0m                           Traceback (most recent call last)",
            "\u001b[0;32m<ipython-input-14-4790e3a5ee8a>\u001b[0m in \u001b[0;36m<module>\u001b[0;34m\u001b[0m\n\u001b[1;32m      3\u001b[0m \u001b[0mDATASETPATH\u001b[0m \u001b[0;34m=\u001b[0m \u001b[0;34m'/content/drive/MyDrive/Colab Notebooks/NLP100/GoogleNews-vectors-negative300.bin'\u001b[0m\u001b[0;34m\u001b[0m\u001b[0;34m\u001b[0m\u001b[0m\n\u001b[1;32m      4\u001b[0m \u001b[0;34m\u001b[0m\u001b[0m\n\u001b[0;32m----> 5\u001b[0;31m \u001b[0mmodel\u001b[0m \u001b[0;34m=\u001b[0m \u001b[0mword2vec\u001b[0m\u001b[0;34m.\u001b[0m\u001b[0mWord2Vec\u001b[0m\u001b[0;34m.\u001b[0m\u001b[0mload\u001b[0m\u001b[0;34m(\u001b[0m\u001b[0mDATASETPATH\u001b[0m\u001b[0;34m)\u001b[0m\u001b[0;34m\u001b[0m\u001b[0;34m\u001b[0m\u001b[0m\n\u001b[0m\u001b[1;32m      6\u001b[0m \u001b[0;34m\u001b[0m\u001b[0m\n\u001b[1;32m      7\u001b[0m \u001b[0mmodel\u001b[0m\u001b[0;34m.\u001b[0m\u001b[0mwv\u001b[0m\u001b[0;34m.\u001b[0m\u001b[0msave\u001b[0m\u001b[0;34m(\u001b[0m\u001b[0;34m'test.kv'\u001b[0m\u001b[0;34m)\u001b[0m\u001b[0;34m\u001b[0m\u001b[0;34m\u001b[0m\u001b[0m\n",
            "\u001b[0;32m/usr/local/lib/python3.8/dist-packages/gensim/models/word2vec.py\u001b[0m in \u001b[0;36mload\u001b[0;34m(cls, *args, **kwargs)\u001b[0m\n\u001b[1;32m   1310\u001b[0m         \"\"\"\n\u001b[1;32m   1311\u001b[0m         \u001b[0;32mtry\u001b[0m\u001b[0;34m:\u001b[0m\u001b[0;34m\u001b[0m\u001b[0;34m\u001b[0m\u001b[0m\n\u001b[0;32m-> 1312\u001b[0;31m             \u001b[0mmodel\u001b[0m \u001b[0;34m=\u001b[0m \u001b[0msuper\u001b[0m\u001b[0;34m(\u001b[0m\u001b[0mWord2Vec\u001b[0m\u001b[0;34m,\u001b[0m \u001b[0mcls\u001b[0m\u001b[0;34m)\u001b[0m\u001b[0;34m.\u001b[0m\u001b[0mload\u001b[0m\u001b[0;34m(\u001b[0m\u001b[0;34m*\u001b[0m\u001b[0margs\u001b[0m\u001b[0;34m,\u001b[0m \u001b[0;34m**\u001b[0m\u001b[0mkwargs\u001b[0m\u001b[0;34m)\u001b[0m\u001b[0;34m\u001b[0m\u001b[0;34m\u001b[0m\u001b[0m\n\u001b[0m\u001b[1;32m   1313\u001b[0m \u001b[0;34m\u001b[0m\u001b[0m\n\u001b[1;32m   1314\u001b[0m             \u001b[0;31m# for backward compatibility for `max_final_vocab` feature\u001b[0m\u001b[0;34m\u001b[0m\u001b[0;34m\u001b[0m\u001b[0;34m\u001b[0m\u001b[0m\n",
            "\u001b[0;32m/usr/local/lib/python3.8/dist-packages/gensim/models/base_any2vec.py\u001b[0m in \u001b[0;36mload\u001b[0;34m(cls, *args, **kwargs)\u001b[0m\n\u001b[1;32m   1242\u001b[0m \u001b[0;34m\u001b[0m\u001b[0m\n\u001b[1;32m   1243\u001b[0m         \"\"\"\n\u001b[0;32m-> 1244\u001b[0;31m         \u001b[0mmodel\u001b[0m \u001b[0;34m=\u001b[0m \u001b[0msuper\u001b[0m\u001b[0;34m(\u001b[0m\u001b[0mBaseWordEmbeddingsModel\u001b[0m\u001b[0;34m,\u001b[0m \u001b[0mcls\u001b[0m\u001b[0;34m)\u001b[0m\u001b[0;34m.\u001b[0m\u001b[0mload\u001b[0m\u001b[0;34m(\u001b[0m\u001b[0;34m*\u001b[0m\u001b[0margs\u001b[0m\u001b[0;34m,\u001b[0m \u001b[0;34m**\u001b[0m\u001b[0mkwargs\u001b[0m\u001b[0;34m)\u001b[0m\u001b[0;34m\u001b[0m\u001b[0;34m\u001b[0m\u001b[0m\n\u001b[0m\u001b[1;32m   1245\u001b[0m         \u001b[0;32mif\u001b[0m \u001b[0;32mnot\u001b[0m \u001b[0mhasattr\u001b[0m\u001b[0;34m(\u001b[0m\u001b[0mmodel\u001b[0m\u001b[0;34m,\u001b[0m \u001b[0;34m'ns_exponent'\u001b[0m\u001b[0;34m)\u001b[0m\u001b[0;34m:\u001b[0m\u001b[0;34m\u001b[0m\u001b[0;34m\u001b[0m\u001b[0m\n\u001b[1;32m   1246\u001b[0m             \u001b[0mmodel\u001b[0m\u001b[0;34m.\u001b[0m\u001b[0mns_exponent\u001b[0m \u001b[0;34m=\u001b[0m \u001b[0;36m0.75\u001b[0m\u001b[0;34m\u001b[0m\u001b[0;34m\u001b[0m\u001b[0m\n",
            "\u001b[0;32m/usr/local/lib/python3.8/dist-packages/gensim/models/base_any2vec.py\u001b[0m in \u001b[0;36mload\u001b[0;34m(cls, fname_or_handle, **kwargs)\u001b[0m\n\u001b[1;32m    601\u001b[0m \u001b[0;34m\u001b[0m\u001b[0m\n\u001b[1;32m    602\u001b[0m         \"\"\"\n\u001b[0;32m--> 603\u001b[0;31m         \u001b[0;32mreturn\u001b[0m \u001b[0msuper\u001b[0m\u001b[0;34m(\u001b[0m\u001b[0mBaseAny2VecModel\u001b[0m\u001b[0;34m,\u001b[0m \u001b[0mcls\u001b[0m\u001b[0;34m)\u001b[0m\u001b[0;34m.\u001b[0m\u001b[0mload\u001b[0m\u001b[0;34m(\u001b[0m\u001b[0mfname_or_handle\u001b[0m\u001b[0;34m,\u001b[0m \u001b[0;34m**\u001b[0m\u001b[0mkwargs\u001b[0m\u001b[0;34m)\u001b[0m\u001b[0;34m\u001b[0m\u001b[0;34m\u001b[0m\u001b[0m\n\u001b[0m\u001b[1;32m    604\u001b[0m \u001b[0;34m\u001b[0m\u001b[0m\n\u001b[1;32m    605\u001b[0m     \u001b[0;32mdef\u001b[0m \u001b[0msave\u001b[0m\u001b[0;34m(\u001b[0m\u001b[0mself\u001b[0m\u001b[0;34m,\u001b[0m \u001b[0mfname_or_handle\u001b[0m\u001b[0;34m,\u001b[0m \u001b[0;34m**\u001b[0m\u001b[0mkwargs\u001b[0m\u001b[0;34m)\u001b[0m\u001b[0;34m:\u001b[0m\u001b[0;34m\u001b[0m\u001b[0;34m\u001b[0m\u001b[0m\n",
            "\u001b[0;32m/usr/local/lib/python3.8/dist-packages/gensim/utils.py\u001b[0m in \u001b[0;36mload\u001b[0;34m(cls, fname, mmap)\u001b[0m\n\u001b[1;32m    420\u001b[0m         \u001b[0mcompress\u001b[0m\u001b[0;34m,\u001b[0m \u001b[0msubname\u001b[0m \u001b[0;34m=\u001b[0m \u001b[0mSaveLoad\u001b[0m\u001b[0;34m.\u001b[0m\u001b[0m_adapt_by_suffix\u001b[0m\u001b[0;34m(\u001b[0m\u001b[0mfname\u001b[0m\u001b[0;34m)\u001b[0m\u001b[0;34m\u001b[0m\u001b[0;34m\u001b[0m\u001b[0m\n\u001b[1;32m    421\u001b[0m \u001b[0;34m\u001b[0m\u001b[0m\n\u001b[0;32m--> 422\u001b[0;31m         \u001b[0mobj\u001b[0m \u001b[0;34m=\u001b[0m \u001b[0munpickle\u001b[0m\u001b[0;34m(\u001b[0m\u001b[0mfname\u001b[0m\u001b[0;34m)\u001b[0m\u001b[0;34m\u001b[0m\u001b[0;34m\u001b[0m\u001b[0m\n\u001b[0m\u001b[1;32m    423\u001b[0m         \u001b[0mobj\u001b[0m\u001b[0;34m.\u001b[0m\u001b[0m_load_specials\u001b[0m\u001b[0;34m(\u001b[0m\u001b[0mfname\u001b[0m\u001b[0;34m,\u001b[0m \u001b[0mmmap\u001b[0m\u001b[0;34m,\u001b[0m \u001b[0mcompress\u001b[0m\u001b[0;34m,\u001b[0m \u001b[0msubname\u001b[0m\u001b[0;34m)\u001b[0m\u001b[0;34m\u001b[0m\u001b[0;34m\u001b[0m\u001b[0m\n\u001b[1;32m    424\u001b[0m         \u001b[0mlogger\u001b[0m\u001b[0;34m.\u001b[0m\u001b[0minfo\u001b[0m\u001b[0;34m(\u001b[0m\u001b[0;34m\"loaded %s\"\u001b[0m\u001b[0;34m,\u001b[0m \u001b[0mfname\u001b[0m\u001b[0;34m)\u001b[0m\u001b[0;34m\u001b[0m\u001b[0;34m\u001b[0m\u001b[0m\n",
            "\u001b[0;32m/usr/local/lib/python3.8/dist-packages/gensim/utils.py\u001b[0m in \u001b[0;36munpickle\u001b[0;34m(fname)\u001b[0m\n\u001b[1;32m   1359\u001b[0m         \u001b[0;31m# Because of loading from S3 load can't be used (missing readline in smart_open)\u001b[0m\u001b[0;34m\u001b[0m\u001b[0;34m\u001b[0m\u001b[0;34m\u001b[0m\u001b[0m\n\u001b[1;32m   1360\u001b[0m         \u001b[0;32mif\u001b[0m \u001b[0msys\u001b[0m\u001b[0;34m.\u001b[0m\u001b[0mversion_info\u001b[0m \u001b[0;34m>\u001b[0m \u001b[0;34m(\u001b[0m\u001b[0;36m3\u001b[0m\u001b[0;34m,\u001b[0m \u001b[0;36m0\u001b[0m\u001b[0;34m)\u001b[0m\u001b[0;34m:\u001b[0m\u001b[0;34m\u001b[0m\u001b[0;34m\u001b[0m\u001b[0m\n\u001b[0;32m-> 1361\u001b[0;31m             \u001b[0;32mreturn\u001b[0m \u001b[0m_pickle\u001b[0m\u001b[0;34m.\u001b[0m\u001b[0mload\u001b[0m\u001b[0;34m(\u001b[0m\u001b[0mf\u001b[0m\u001b[0;34m,\u001b[0m \u001b[0mencoding\u001b[0m\u001b[0;34m=\u001b[0m\u001b[0;34m'latin1'\u001b[0m\u001b[0;34m)\u001b[0m\u001b[0;34m\u001b[0m\u001b[0;34m\u001b[0m\u001b[0m\n\u001b[0m\u001b[1;32m   1362\u001b[0m         \u001b[0;32melse\u001b[0m\u001b[0;34m:\u001b[0m\u001b[0;34m\u001b[0m\u001b[0;34m\u001b[0m\u001b[0m\n\u001b[1;32m   1363\u001b[0m             \u001b[0;32mreturn\u001b[0m \u001b[0m_pickle\u001b[0m\u001b[0;34m.\u001b[0m\u001b[0mloads\u001b[0m\u001b[0;34m(\u001b[0m\u001b[0mf\u001b[0m\u001b[0;34m.\u001b[0m\u001b[0mread\u001b[0m\u001b[0;34m(\u001b[0m\u001b[0;34m)\u001b[0m\u001b[0;34m)\u001b[0m\u001b[0;34m\u001b[0m\u001b[0;34m\u001b[0m\u001b[0m\n",
            "\u001b[0;31mUnpicklingError\u001b[0m: invalid load key, '3'."
          ]
        }
      ]
    },
    {
      "cell_type": "code",
      "execution_count": 3,
      "metadata": {
        "colab": {
          "base_uri": "https://localhost:8080/"
        },
        "id": "qSXkdVIK3C4p",
        "outputId": "3270646b-6a99-4853-f289-87024b7157f7"
      },
      "outputs": [
        {
          "output_type": "stream",
          "name": "stdout",
          "text": [
            "--2023-01-26 13:29:49--  https://archive.ics.uci.edu/ml/machine-learning-databases/00359/NewsAggregatorDataset.zip\n",
            "Resolving archive.ics.uci.edu (archive.ics.uci.edu)... 128.195.10.252\n",
            "Connecting to archive.ics.uci.edu (archive.ics.uci.edu)|128.195.10.252|:443... connected.\n",
            "HTTP request sent, awaiting response... 200 OK\n",
            "Length: 29224203 (28M) [application/x-httpd-php]\n",
            "Saving to: ‘NewsAggregatorDataset.zip’\n",
            "\n",
            "NewsAggregatorDatas 100%[===================>]  27.87M  31.9MB/s    in 0.9s    \n",
            "\n",
            "2023-01-26 13:29:50 (31.9 MB/s) - ‘NewsAggregatorDataset.zip’ saved [29224203/29224203]\n",
            "\n"
          ]
        }
      ],
      "source": [
        "!wget https://archive.ics.uci.edu/ml/machine-learning-databases/00359/NewsAggregatorDataset.zip"
      ]
    },
    {
      "cell_type": "code",
      "source": [
        "!unzip NewsAggregatorDataset.zip"
      ],
      "metadata": {
        "colab": {
          "base_uri": "https://localhost:8080/"
        },
        "id": "_pPhlqPp3XbX",
        "outputId": "b5e01ae9-a9f4-44d4-e648-c29d2a0fa36d"
      },
      "execution_count": 4,
      "outputs": [
        {
          "output_type": "stream",
          "name": "stdout",
          "text": [
            "Archive:  NewsAggregatorDataset.zip\n",
            "  inflating: 2pageSessions.csv       \n",
            "   creating: __MACOSX/\n",
            "  inflating: __MACOSX/._2pageSessions.csv  \n",
            "  inflating: newsCorpora.csv         \n",
            "  inflating: __MACOSX/._newsCorpora.csv  \n",
            "  inflating: readme.txt              \n",
            "  inflating: __MACOSX/._readme.txt   \n"
          ]
        }
      ]
    },
    {
      "cell_type": "code",
      "source": [
        "# 50の内容を複製\n",
        "\n",
        "import random\n",
        "\n",
        "TARGET_PUBLISHERS = [\n",
        "  'Reuters',\\\n",
        "  'Huffington Post',\\\n",
        "  'Businessweek',\\\n",
        "  'Contactmusic.com',\\\n",
        "  'Daily Mail'\n",
        "]\n",
        "\n",
        "with open('./newsCorpora.csv') as f:\n",
        "   all_news = [news for news in f.readlines() if news.split('\\t')[3] in TARGET_PUBLISHERS]\n",
        "\n",
        "random.shuffle(all_news)\n",
        "\n",
        "train_data_num = len(all_news)  * 8 // 10\n",
        "valid_data_num = len(all_news)  * 9 // 10\n",
        "train_data = all_news[: train_data_num]\n",
        "valid_data = all_news[train_data_num : valid_data_num]\n",
        "test_data = all_news[valid_data_num :]"
      ],
      "metadata": {
        "id": "WzRveubE3YwC"
      },
      "execution_count": 2,
      "outputs": []
    },
    {
      "cell_type": "code",
      "source": [
        "# 70\n",
        "import numpy as np\n",
        "\n",
        "\n",
        "NEWS_CATEGORIES = {\n",
        "    'b' : 0,\n",
        "    't' : 1,\n",
        "    'e' : 2,\n",
        "    'm' : 3\n",
        "}\n",
        "\n",
        "\n",
        "def vector_create(X, filepath):\n",
        "  for x in X:\n",
        "    news = x.split(\"\\t\")\n",
        "    title, category = news[1], news[4]\n",
        "    word_v = None\n",
        "    for word in title.split(' '):\n",
        "      if word:\n",
        "        try:\n",
        "          if word_v:\n",
        "            word_v = word_v + wv[word] #. most_similarで抽出しようとするとメモリが死ぬため、データセットに存在する場合のみ扱う\n",
        "          else:\n",
        "            word_v = wv[word]\n",
        "        except:\n",
        "          continue\n",
        "    if word_v is None:\n",
        "      word_v = np.zeros(300)\n",
        "    with open(f'./{filepath}_x.txt', mode='a') as f:\n",
        "        f.write(str(','.join(list([str(char) for char in word_v]))) + '\\n')\n",
        "    y = NEWS_CATEGORIES[news[4]]\n",
        "    with open(f'./{filepath}_y.txt', mode='a') as f:\n",
        "      f.write(str(y) + '\\n')\n",
        "\n",
        "vector_create(train_data, 'train')\n",
        "vector_create(valid_data, 'valid')\n",
        "vector_create(test_data, 'test')"
      ],
      "metadata": {
        "id": "H9ip-BlB3dzj"
      },
      "execution_count": 98,
      "outputs": []
    },
    {
      "cell_type": "code",
      "source": [
        "vector_create(valid_data, 'valid')\n",
        "vector_create(test_data, 'test')"
      ],
      "metadata": {
        "id": "od-f0Wm9WDA6"
      },
      "execution_count": 22,
      "outputs": []
    },
    {
      "cell_type": "code",
      "source": [
        "# 71\n",
        "import csv\n",
        "from scipy.special import softmax\n",
        "\n",
        "\n",
        "X_14 = []\n",
        "with open(f'./train_x.txt', mode='r') as f:\n",
        "  data = csv.reader(f)\n",
        "  i = 0\n",
        "  for row in data:\n",
        "    if i == 4:\n",
        "      break\n",
        "    X_14.append(row)\n",
        "    i += 1\n",
        "  X_14 = np.array(X_14, dtype=np.float64)\n",
        "\n",
        "W = np.zeros((X_14.shape[1], len(NEWS_CATEGORIES)))\n",
        "\n",
        "y_hat1 = softmax(np.dot(X_14[0], W))\n",
        "p = softmax(np.dot(W, X_14[0]))\n",
        "index = np.where(p == np.max(p))\n",
        "print(f'y_hat1: {y_hat1[index]}')\n",
        "Y_hat = softmax(np.dot(X_14, W))\n",
        "print(f'Y_hat: {Y_hat}')\n"
      ],
      "metadata": {
        "colab": {
          "base_uri": "https://localhost:8080/"
        },
        "id": "XsVg45Pa4hD5",
        "outputId": "63230bad-ce79-4837-8c8b-369d4bb8927d"
      },
      "execution_count": 66,
      "outputs": [
        {
          "output_type": "stream",
          "name": "stdout",
          "text": [
            "y_hat1: [0.25 0.25 0.25 0.25]\n",
            "Y_hat: [[0.0625 0.0625 0.0625 0.0625]\n",
            " [0.0625 0.0625 0.0625 0.0625]\n",
            " [0.0625 0.0625 0.0625 0.0625]\n",
            " [0.0625 0.0625 0.0625 0.0625]]\n"
          ]
        }
      ]
    },
    {
      "cell_type": "code",
      "source": [
        "# 72\n",
        "Y_14 = []\n",
        "with open(f'./train_y.txt', mode='r') as f:\n",
        "  data = f.readlines()\n",
        "  i = 0\n",
        "  for row in data:\n",
        "    if i == 4:\n",
        "      break\n",
        "    Y_14.append(int(row.strip()))\n",
        "    i += 1\n",
        "Y_14 = np.array(Y_14)\n",
        "l1 = np.log(Y_hat[Y_14[0]])\n",
        "print(f'l1: {l1}')\n",
        "gradient1 = (Y_14[0] - Y_hat[0][Y_14[0]]) * X_14[0]\n",
        "print(f'gradient1: {gradient1}')"
      ],
      "metadata": {
        "colab": {
          "base_uri": "https://localhost:8080/"
        },
        "id": "fNkscILpYTa7",
        "outputId": "ba6bcb47-d13b-4934-d2d3-1047454f3d84"
      },
      "execution_count": 68,
      "outputs": [
        {
          "output_type": "stream",
          "name": "stdout",
          "text": [
            "l1: [-2.77258872 -2.77258872 -2.77258872 -2.77258872]\n",
            "gradient1: [ 6.43310547e-02  2.19955443e-02 -1.82586667e-01  2.51647944e-01\n",
            "  8.89282236e-02 -2.16644287e-01 -6.09252920e-01 -1.74072266e-01\n",
            "  1.43798828e-01  3.19290157e-02  2.45971680e-02  1.93939208e-01\n",
            "  1.36230469e-01  9.69696042e-02 -2.27996824e-01 -4.06799321e-02\n",
            "  4.46533203e-01  4.10583491e-01  8.60900884e-02 -4.71130366e-01\n",
            " -1.88262942e-01 -8.23059106e-02  5.37353516e-01  1.07849120e-01\n",
            "  8.86917111e-03 -2.47154242e-02  2.98950205e-01  3.34899897e-01\n",
            " -3.66592399e-02  2.36511226e-01 -1.24877930e-01  9.79156506e-02\n",
            "  9.98077395e-02  1.50421145e-01 -1.53259273e-01  1.07612606e-02\n",
            "  7.07641611e-01  4.99511719e-01 -3.68957524e-02 -6.57501223e-02\n",
            "  8.65631096e-02 -8.51440420e-02  2.33673098e-01 -4.63562007e-01\n",
            "  4.13894659e-02  7.23724373e-02 -1.38122554e-01  7.14263909e-02\n",
            "  3.02734375e-01  2.85705571e-01 -3.97338858e-01  3.95446772e-01\n",
            "  3.23547368e-01 -1.91101069e-01  8.94012449e-02  3.27331538e-01\n",
            "  2.13806148e-01  5.48706045e-02  2.56614687e-02 -6.85882556e-02\n",
            "  7.99407966e-02 -4.61196901e-02 -3.15979009e-01 -1.16363526e-01\n",
            "  7.47375512e-02 -4.14367681e-01 -2.16644287e-01 -3.82202139e-01\n",
            " -7.14263909e-02 -8.08868411e-02  2.64892578e-01 -4.38964844e-01\n",
            "  9.03472913e-02  1.69342042e-01 -2.64892578e-01 -8.27789319e-03\n",
            "  2.80029297e-01 -3.76525884e-01  1.33392333e-01  1.20147707e-01\n",
            "  1.19674682e-01 -4.33288569e-01 -9.74426294e-02 -4.04907236e-01\n",
            " -4.91499904e-04 -1.41906743e-01 -2.63000493e-01  7.90893545e-01\n",
            "  2.63000493e-01  7.14263909e-02  3.87878413e-02 -2.45971670e-01\n",
            " -4.09164427e-02  2.95639037e-02  2.42424011e-02  3.40576172e-01\n",
            "  1.35284426e-01 -6.52770991e-02 -1.89208984e-01 -5.37353516e-01\n",
            " -7.68188486e-01  2.53540049e-01 -1.90155027e-01 -6.35742188e-01\n",
            "  6.68144221e-03  1.75964351e-01  4.35180674e-01 -3.46252446e-01\n",
            " -1.17782594e-01  1.07849120e-01  4.56466669e-02  2.63000493e-01\n",
            "  5.74722291e-02 -1.84478760e-01 -4.35180674e-02  2.88543699e-02\n",
            " -4.25720210e-01 -1.66503906e-01 -6.19659426e-02 -1.62719727e-01\n",
            " -3.25439453e-01  1.15890503e-02 -2.53540049e-01 -3.72741694e-01\n",
            " -1.60827632e-01 -1.34338384e-01 -2.83813486e-01  4.91943359e-01\n",
            " -7.04803464e-02 -1.68395991e-01 -1.22985835e-01 -7.90893545e-01\n",
            " -1.35284426e-01  1.50421145e-01  1.22039792e-01 -9.12933337e-02\n",
            " -1.69342042e-01  5.48706045e-01  2.17590337e-01  2.49755859e-01\n",
            "  8.37249744e-02  2.44079585e-01  1.86370849e-01 -1.60827632e-01\n",
            " -2.31781005e-01  3.31115728e-01  2.98950205e-01 -5.71411143e-01\n",
            " -3.23547368e-01  1.05484010e-01  1.83532710e-01 -9.83886719e-02\n",
            " -9.31854246e-02  1.01699828e-01 -3.25439453e-01 -1.32446289e-02\n",
            " -4.06799321e-01 -4.04434196e-02  4.77752683e-02 -4.61669922e-01\n",
            "  2.93273931e-01  2.22320557e-01  4.16259766e-01 -7.42645261e-02\n",
            " -3.12194819e-01 -4.74914556e-01 -1.22985835e-01 -4.96673591e-02\n",
            "  1.13998412e-01 -4.20043955e-01  2.09075927e-01  2.53540049e-01\n",
            "  6.73583984e-01 -1.93939208e-01 -4.47006224e-02  1.47583008e-01\n",
            "  6.33850102e-02  9.31854246e-02  2.61108389e-01  7.80487058e-02\n",
            " -5.41137705e-01 -6.16821299e-01  3.31115727e-02  1.95831301e-01\n",
            " -4.23828125e-01 -1.85424805e-01  2.61108389e-01  8.60900884e-02\n",
            "  1.29608152e-01 -3.17871094e-01 -7.98225394e-03 -7.14263909e-02\n",
            "  1.60827632e-01  4.06799321e-01  3.65173335e-01 -2.57324219e-01\n",
            "  1.47583008e-01 -1.86370849e-01 -2.41241457e-02 -2.31781005e-01\n",
            "  2.66784663e-01  2.80029297e-01 -2.55432134e-01  4.29504399e-01\n",
            "  4.71130366e-01 -5.71411143e-01 -4.96673591e-02 -2.64892578e-01\n",
            " -2.29888917e-01  1.47583008e-01 -6.95343020e-02 -3.78417969e-02\n",
            "  3.68957524e-01  2.12860105e-01 -1.49475102e-01  1.25823974e-01\n",
            " -8.13598642e-02 -3.85986328e-01 -5.10864268e-01 -2.30834961e-01\n",
            "  1.98669429e-01  6.05468750e-02  2.31781005e-01 -1.23931885e-01\n",
            "  2.97058101e-01  3.46252446e-01 -4.30450442e-02  2.55432134e-01\n",
            "  6.95343020e-02 -4.42749014e-01 -5.98373412e-02 -2.10021977e-01\n",
            " -8.32519531e-02  3.14086924e-01  3.06518545e-01  7.14263909e-02\n",
            "  5.52490234e-01 -5.29785156e-01  1.22985835e-01  2.89489741e-01\n",
            " -1.60827632e-01  1.93939208e-01 -2.31781013e-02 -3.36791983e-01\n",
            "  2.87597656e-01  3.91662603e-01  2.87597656e-01  6.90612769e-02\n",
            "  5.18432607e-01 -2.19482422e-01 -1.86370849e-01  4.61669922e-01\n",
            "  2.16644287e-01  2.00561523e-01  5.77087398e-02 -5.06134036e-02\n",
            "  1.44744871e-01 -9.22393801e-02 -1.56097412e-01 -5.10864267e-02\n",
            " -5.18432607e-01  3.31115728e-01 -2.68676767e-01 -1.39068604e-01\n",
            "  2.22320549e-02  1.57043462e-01 -2.78137212e-01 -5.67626953e-02\n",
            " -5.60531615e-02  3.28750602e-02 -2.62527472e-02 -5.75195312e-01\n",
            " -5.78979482e-01  3.80310054e-01 -4.04907236e-01  2.35565183e-01\n",
            " -3.14086924e-01 -6.85882556e-02 -7.09533696e-02 -5.29785156e-01\n",
            "  1.72180181e-01 -1.92993164e-01 -1.54205323e-01 -1.97723386e-01\n",
            " -2.09075927e-01 -3.14086924e-01  6.71691919e-02  3.14559945e-02\n",
            "  2.44789117e-02  7.28454585e-02  1.49475102e-01 -9.93347144e-02\n",
            "  1.45454402e-02 -1.79600717e-03 -1.64611821e-01 -2.93273931e-01\n",
            " -1.86370849e-01 -1.88262942e-01  8.94012449e-02 -3.93554688e-01]\n"
          ]
        }
      ]
    },
    {
      "cell_type": "code",
      "source": [
        "ls = []\n",
        "for i in range(4):\n",
        "  l = -1 * np.log(Y_hat[Y_14[i]])\n",
        "  ls.append(l)\n",
        "gradient = gradient1\n",
        "print(np.average(l))\n",
        "for i in range(1,4):\n",
        "  gradient += (Y_14[i] - Y_hat[i][Y_14[i]]) * X_14[i]\n",
        "gradient = gradient / 4\n",
        "print(f'gradient: {gradient}')"
      ],
      "metadata": {
        "colab": {
          "base_uri": "https://localhost:8080/"
        },
        "id": "Ehh_qfaGaLd7",
        "outputId": "db0b21fb-c8a3-4659-917e-82d6ff5800fb"
      },
      "execution_count": 69,
      "outputs": [
        {
          "output_type": "stream",
          "name": "stdout",
          "text": [
            "2.772588722239781\n",
            "gradient: [-0.02205658  0.14985466 -0.22924995  0.19368363 -0.03162694 -0.01949501\n",
            " -0.1897707  -0.13913727  0.18624115  0.1212635   0.13915253 -0.10228729\n",
            "  0.08578682  0.1925354  -0.24700164 -0.12080765  0.10158414  0.05297851\n",
            " -0.0154953  -0.02142715  0.10708618  0.002388    0.16466522  0.19549561\n",
            "  0.13808918 -0.08689785  0.16872073  0.20452118 -0.01576424  0.20904159\n",
            " -0.24517823 -0.0902462  -0.08080673  0.08433342  0.09888458 -0.10902691\n",
            "  0.42423249  0.24896622 -0.09225464  0.09137344  0.29970169 -0.15019226\n",
            "  0.16407633  0.01082611  0.10222626 -0.01609993 -0.23427582  0.04071426\n",
            "  0.20041466  0.23514938 -0.29210376  0.23639261  0.07300949 -0.26922226\n",
            "  0.13833618  0.03823852  0.01873207 -0.20552826 -0.28965092 -0.06984329\n",
            "  0.11265182  0.08146096 -0.11690521 -0.04460049  0.10717011  0.08165741\n",
            " -0.42388916 -0.07542038 -0.05912399 -0.10589218  0.05565262 -0.20921707\n",
            "  0.11833573  0.19696808 -0.0970459  -0.1510601   0.16059876  0.07807541\n",
            " -0.08300018  0.03821564  0.06093979 -0.36257171 -0.1531601  -0.18104554\n",
            " -0.04220661  0.09711689 -0.00346375  0.34597921  0.14944839 -0.08574104\n",
            "  0.12664414 -0.01029205 -0.01587867  0.01576042 -0.26553059  0.06740093\n",
            "  0.15379334  0.11707306 -0.10330582 -0.02218819 -0.36487961 -0.10988808\n",
            "  0.03727722 -0.5027771   0.21572828  0.13819122  0.02797508 -0.34069824\n",
            "  0.0642128  -0.13212585  0.11059379 -0.09573364  0.21865273 -0.13961792\n",
            "  0.14155722  0.12497043 -0.23165131 -0.03949738 -0.0932579  -0.01232529\n",
            " -0.14909267 -0.24964333 -0.09524155 -0.17587519 -0.11241197  0.00387955\n",
            " -0.3332367   0.3192215  -0.23897171 -0.11525345  0.04309845 -0.35098266\n",
            " -0.02126694  0.34482288  0.3481369  -0.1349144  -0.00713777  0.199512\n",
            "  0.21185398 -0.07452774  0.26415634  0.11422995 -0.27349091 -0.07292747\n",
            " -0.12278747  0.15924835  0.07699776 -0.09371948 -0.11508179  0.04571915\n",
            "  0.04444122 -0.35606385 -0.05157089 -0.02175522 -0.30913162 -0.0966568\n",
            " -0.12263107  0.06522179 -0.11418533 -0.2559166  -0.01881027 -0.0176239\n",
            "  0.29884339  0.12764359 -0.0881195  -0.22549057 -0.02305603 -0.09177399\n",
            " -0.01247406 -0.11043549  0.2210331   0.11190224  0.15391994 -0.12549019\n",
            " -0.2191906   0.01165772  0.0057106  -0.23534775 -0.01081848 -0.18489456\n",
            " -0.4267273  -0.03608704 -0.00876546  0.01120758 -0.08226585 -0.10157013\n",
            "  0.07576179  0.06983757  0.07938385 -0.18089295 -0.04067659 -0.23521805\n",
            "  0.00592041  0.35369873  0.08607483 -0.05931473 -0.14924622 -0.19900894\n",
            "  0.07436753 -0.15990448  0.17788697  0.04413605 -0.11683679  0.01013184\n",
            "  0.22780228 -0.17097855 -0.01465225  0.02089691 -0.16744232  0.0605011\n",
            "  0.02986115 -0.11917114  0.16942978  0.15775681 -0.18749237 -0.00696373\n",
            " -0.11591339 -0.21213991 -0.0528946  -0.22037888 -0.01596451  0.22961044\n",
            " -0.07492829 -0.12774658  0.26094818  0.29090882  0.24023056 -0.04149914\n",
            "  0.03214645 -0.31318664 -0.01418304 -0.16150093 -0.17532349  0.00959397\n",
            "  0.20170593  0.19198227  0.08654404 -0.16381264  0.12597656  0.0331459\n",
            "  0.16398239  0.04573822 -0.02593613 -0.18850517  0.22917175  0.06637955\n",
            "  0.08228397 -0.06474304  0.24842071 -0.17599106 -0.18844223  0.10957337\n",
            "  0.25009918  0.23838806 -0.06577492 -0.14679337  0.24272919 -0.27963638\n",
            " -0.15585327  0.04299927 -0.33256149  0.10583878 -0.28425217  0.216362\n",
            " -0.06549835  0.16553879 -0.26731872 -0.0836029  -0.03236961  0.01101112\n",
            "  0.17033196 -0.05878067 -0.03248978  0.07391357  0.09535217  0.18314362\n",
            "  0.1247406  -0.08506394 -0.22651672 -0.13477135 -0.2446289  -0.0552969\n",
            " -0.09120941  0.0464325  -0.05613709 -0.06114674 -0.12540436 -0.08605385\n",
            " -0.19367886  0.16480255 -0.11086846  0.09027099 -0.10605908 -0.03217965\n",
            " -0.09142494 -0.22186279  0.08288992 -0.02423859  0.45814133 -0.14495087]\n"
          ]
        }
      ]
    },
    {
      "cell_type": "code",
      "source": [
        "# 73\n",
        "\n",
        "EPOCH = 100\n",
        "\n",
        "X = []\n",
        "with open(f'./train_x.txt', mode='r') as f:\n",
        "  data = csv.reader(f)\n",
        "  i = 0\n",
        "  for row in data:\n",
        "    X.append(row)\n",
        "    i += 1\n",
        "X = np.array(X, dtype=np.float64)\n",
        "\n",
        "W = np.zeros((len(NEWS_CATEGORIES), X_14.shape[1]))\n",
        "\n",
        "Y = []\n",
        "with open(f'./train_y.txt', mode='r') as f:\n",
        "  data = f.readlines()\n",
        "  i = 0\n",
        "  for row in data:\n",
        "    add_row = [0] * len(NEWS_CATEGORIES)\n",
        "    add_row[int(row.strip())] =1\n",
        "    Y.append(add_row)\n",
        "    i += 1\n",
        "Y = np.array(Y)\n",
        "\n",
        "eta = 1.0\n",
        "for i in range(EPOCH):\n",
        "  i = np.random.randint(0, X.shape[0])\n",
        "  y_hat = softmax(np.dot(W, X[i]))\n",
        "  l = -1 * np.log(y_hat[Y[i]])\n",
        "  grad = Y[i] - y_hat\n",
        "  for j in range(grad.shape[0]):\n",
        "    W[j] += eta * grad[j] * X[i]\n",
        "print(W)"
      ],
      "metadata": {
        "colab": {
          "base_uri": "https://localhost:8080/"
        },
        "id": "gB23vOHAast_",
        "outputId": "5082f3d5-aefb-4c3b-cae2-35f8d879a2ee"
      },
      "execution_count": 111,
      "outputs": [
        {
          "output_type": "stream",
          "name": "stdout",
          "text": [
            "[[-0.04038221 -0.46974491  0.09572526 ...  1.32352376  0.04513307\n",
            "  -0.14458064]\n",
            " [-0.18046285 -0.15350312  0.30392548 ...  0.37491862  0.42854704\n",
            "  -0.36254766]\n",
            " [ 0.15617263  0.5315017  -0.22241033 ... -1.43765294 -0.28792394\n",
            "   0.2608731 ]\n",
            " [ 0.06467243  0.09174633 -0.17724042 ... -0.26078943 -0.18575617\n",
            "   0.2462552 ]]\n"
          ]
        }
      ]
    },
    {
      "cell_type": "code",
      "source": [
        "# 74\n",
        "correct = 0\n",
        "for i in range(X.shape[0]):\n",
        "  p = softmax(np.dot(W, X[i]))\n",
        "  index = np.where(p == np.max(p))\n",
        "  if (Y[i][index] == 1)[0]:\n",
        "    correct += 1\n",
        "print(correct/X.shape[0])\n"
      ],
      "metadata": {
        "colab": {
          "base_uri": "https://localhost:8080/"
        },
        "id": "7_KQ5M_phB5W",
        "outputId": "1622d62c-9afe-493a-d458-b1ea2094d2d4"
      },
      "execution_count": 129,
      "outputs": [
        {
          "output_type": "stream",
          "name": "stdout",
          "text": [
            "0.6483526769000374\n"
          ]
        }
      ]
    },
    {
      "cell_type": "code",
      "source": [
        "# 75\n",
        "\n",
        "EPOCH = 100\n",
        "\n",
        "X = []\n",
        "with open(f'./train_x.txt', mode='r') as f:\n",
        "  data = csv.reader(f)\n",
        "  i = 0\n",
        "  for row in data:\n",
        "    X.append(row)\n",
        "    i += 1\n",
        "X = np.array(X, dtype=np.float64)\n",
        "\n",
        "\n",
        "Y = []\n",
        "with open(f'./train_y.txt', mode='r') as f:\n",
        "  data = f.readlines()\n",
        "  i = 0\n",
        "  for row in data:\n",
        "    add_row = [0] * len(NEWS_CATEGORIES)\n",
        "    add_row[int(row.strip())] =1\n",
        "    Y.append(add_row)\n",
        "    i += 1\n",
        "Y = np.array(Y)\n",
        "\n",
        "W = np.zeros((len(NEWS_CATEGORIES), X.shape[1]))\n",
        "\n",
        "\n",
        "valid_X = []\n",
        "with open(f'./valid_x.txt', mode='r') as f:\n",
        "  data = csv.reader(f)\n",
        "  i = 0\n",
        "  for row in data:\n",
        "    valid_X.append(row)\n",
        "    i += 1\n",
        "valid_X = np.array(valid_X, dtype=np.float64)\n",
        "\n",
        "valid_Y = []\n",
        "with open(f'./valid_y.txt', mode='r') as f:\n",
        "  data = f.readlines()\n",
        "  i = 0\n",
        "  for row in data:\n",
        "    add_row = [0] * len(NEWS_CATEGORIES)\n",
        "    add_row[int(row.strip())] =1\n",
        "    valid_Y.append(add_row)\n",
        "    i += 1\n",
        "valid_Y = np.array(valid_Y)\n",
        "\n",
        "\n",
        "eta = 1.0\n",
        "train_losses = []\n",
        "train_correctness = []\n",
        "test_losses = []\n",
        "test_correctness = []\n",
        "for i in range(EPOCH):\n",
        "  i = np.random.randint(0, X.shape[0])\n",
        "  y_hat = softmax(np.dot(W, X[i]))\n",
        "  l = -1 * np.log(y_hat[Y[i]])\n",
        "  grad = Y[i] - y_hat\n",
        "  for j in range(grad.shape[0]):\n",
        "    W[j] += eta * grad[j] * X[i]\n",
        "  correct = 0\n",
        "  l = 0\n",
        "  for i in range(X.shape[0]):\n",
        "    p = softmax(np.dot(W, X[i]))\n",
        "    index = np.where(p == np.max(p))\n",
        "    l += np.average(-1 * np.log(p))\n",
        "    if (Y[i][index] == 1)[0]:\n",
        "      correct += 1\n",
        "  train_losses.append(l)\n",
        "  train_correctness.append(correct/X.shape[0])\n",
        "\n",
        "  correct = 0\n",
        "  l = 0\n",
        "  for i in range(valid_X.shape[0]):\n",
        "    p = softmax(np.dot(W, valid_X[i]))\n",
        "    index = np.where(p == np.max(p))\n",
        "    l += np.average(-1 * np.log(p))\n",
        "    if (valid_Y[i][index] == 1)[0]:\n",
        "      correct += 1\n",
        "  test_losses.append(l)\n",
        "  test_correctness.append(correct/valid_X.shape[0])\n"
      ],
      "metadata": {
        "id": "L5KxD-a4kvGZ"
      },
      "execution_count": 137,
      "outputs": []
    },
    {
      "cell_type": "code",
      "source": [
        "import matplotlib.pyplot as plt\n",
        "print(train_losses)\n",
        "plt.plot([i for i in range(EPOCH)], train_losses, label=\"Loss function(training)\")\n",
        "plt.plot([i for i in range(EPOCH)], test_losses, label=\"Loss function(test)\")\n",
        "\n",
        "plt.legend()\n",
        "plt.show()"
      ],
      "metadata": {
        "colab": {
          "base_uri": "https://localhost:8080/",
          "height": 302
        },
        "id": "9UhPSfm2mN63",
        "outputId": "cbb2e300-de34-48d6-fb24-60513f0f8c79"
      },
      "execution_count": 138,
      "outputs": [
        {
          "output_type": "stream",
          "name": "stdout",
          "text": [
            "[16536.230522911737, 17017.145143868074, 19743.07294197545, 22070.795766253457, 22223.278767077078, 22177.115108765884, 24727.352343930364, 24772.433769390973, 24090.185377144524, 24854.312127336678, 25235.058984512296, 26073.77072051114, 41598.786724539015, 42043.757700945775, 42728.416098012225, 45036.66510935103, 45808.38628500885, 48054.025200441, 48705.21775542195, 47613.94120255265, 47578.67754829805, 48037.18630738594, 48082.54973615611, 48185.75710888867, 49850.50968496895, 49904.01828871804, 47437.64988120663, 46160.29756198144, 47219.2671439818, 47408.94521466166, 48570.180991836205, 48589.579611073124, 48628.83002841167, 49022.351380642176, 49182.76523902221, 49249.38317571565, 49249.67737054252, 49249.68939219656, 54419.71561879293, 54819.25334662284, 51191.37600532549, 52542.976952747835, 51640.767811273785, 51648.005978320194, 51662.22041020544, 52005.49538126586, 52635.68154608864, 53489.881420071324, 53534.28972967491, 49608.9020639817, 49766.13935319072, 49906.532259232066, 51545.907300963285, 49214.509408657745, 51698.97718145329, 53438.90717833795, 51496.4467081987, 51496.465097424596, 52132.12870277521, 53183.427665982694, 51023.094050617954, 50235.68201660106, 50415.88712349779, 50428.33804049727, 50574.75264043804, 50577.086726612964, 49981.826885954826, 50009.904706374946, 50009.96826345118, 51178.494864115724, 51194.81174990321, 51386.28515590142, 51460.901312207345, 51477.57462603169, 56132.7798293336, 57728.54569426111, 57997.77640179513, 57997.25676426454, 58247.2155509389, 60015.37322008932, 59367.74897092928, 55407.98790649132, 50146.80084560501, 50211.761874928205, 50710.68664926941, 52464.12227172935, 52453.464553942475, 52453.93979699467, 52462.41354103294, 52566.02149549564, 54275.1019542048, 59307.921394985715, 59316.9983221166, 59317.61636887487, 69213.63630525678, 69292.62636651225, 69292.90796357293, 62705.98538280448, 62706.05409196413, 62755.8101469303]\n"
          ]
        },
        {
          "output_type": "display_data",
          "data": {
            "text/plain": [
              "<Figure size 432x288 with 1 Axes>"
            ],
            "image/png": "[encoded data removed]"
          },
          "metadata": {
            "needs_background": "light"
          }
        }
      ]
    },
    {
      "cell_type": "code",
      "source": [
        "plt.plot([i for i in range(EPOCH)], train_correctness, label=\"Accuracy(training)\")\n",
        "plt.plot([i for i in range(EPOCH)], test_correctness, label=\"Accuracy(test)\")\n",
        "\n",
        "plt.legend()\n",
        "plt.show()"
      ],
      "metadata": {
        "colab": {
          "base_uri": "https://localhost:8080/",
          "height": 265
        },
        "id": "RVWo7fpzmizO",
        "outputId": "c897b033-0573-4e5c-9ade-0cbc443cf297"
      },
      "execution_count": 139,
      "outputs": [
        {
          "output_type": "display_data",
          "data": {
            "text/plain": [
              "<Figure size 432x288 with 1 Axes>"
            ],
            "image/png": "[encoded data removed]"
          },
          "metadata": {
            "needs_background": "light"
          }
        }
      ]
    }
  ]
}