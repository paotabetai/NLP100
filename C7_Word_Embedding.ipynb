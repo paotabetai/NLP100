{
  "cells": [
    {
      "cell_type": "code",
      "execution_count": 6,
      "metadata": {
        "colab": {
          "base_uri": "https://localhost:8080/"
        },
        "id": "OCdsY9acQXki",
        "outputId": "ff3dfe36-100a-4971-d853-1b9dd750a960"
      },
      "outputs": [
        {
          "output_type": "stream",
          "name": "stdout",
          "text": [
            "Mounted at /content/drive\n"
          ]
        }
      ],
      "source": [
        "# 60\n",
        "## 同一ディレクトリ内にhttps://drive.google.com/file/d/0B7XkCwpI5KDYNlNUTTlSS21pQmM/edit?resourcekey=0-wjGZdNAUop6WykTtMip30g からダウンロードした学習済み単語ベクトルを配置しているものとする\n",
        "\n",
        "from google.colab import drive\n",
        "\n",
        "drive.mount('/content/drive')"
      ]
    },
    {
      "cell_type": "code",
      "execution_count": null,
      "metadata": {
        "colab": {
          "base_uri": "https://localhost:8080/"
        },
        "id": "k_PPLl7jU7cL",
        "outputId": "7a553320-7c1a-4ede-9b17-d469f371e82b"
      },
      "outputs": [
        {
          "name": "stdout",
          "output_type": "stream",
          "text": [
            "[-3.61328125e-02 -4.83398438e-02  2.35351562e-01  1.74804688e-01\n",
            " -1.46484375e-01 -7.42187500e-02 -1.01562500e-01 -7.71484375e-02\n",
            "  1.09375000e-01 -5.71289062e-02 -1.48437500e-01 -6.00585938e-02\n",
            "  1.74804688e-01 -7.71484375e-02  2.58789062e-02 -7.66601562e-02\n",
            " -3.80859375e-02  1.35742188e-01  3.75976562e-02 -4.19921875e-02\n",
            " -3.56445312e-02  5.34667969e-02  3.68118286e-04 -1.66992188e-01\n",
            " -1.17187500e-01  1.41601562e-01 -1.69921875e-01 -6.49414062e-02\n",
            " -1.66992188e-01  1.00585938e-01  1.15722656e-01 -2.18750000e-01\n",
            " -9.86328125e-02 -2.56347656e-02  1.23046875e-01 -3.54003906e-02\n",
            " -1.58203125e-01 -1.60156250e-01  2.94189453e-02  8.15429688e-02\n",
            "  6.88476562e-02  1.87500000e-01  6.49414062e-02  1.15234375e-01\n",
            " -2.27050781e-02  3.32031250e-01 -3.27148438e-02  1.77734375e-01\n",
            " -2.08007812e-01  4.54101562e-02 -1.23901367e-02  1.19628906e-01\n",
            "  7.44628906e-03 -9.03320312e-03  1.14257812e-01  1.69921875e-01\n",
            " -2.38281250e-01 -2.79541016e-02 -1.21093750e-01  2.47802734e-02\n",
            "  7.71484375e-02 -2.81982422e-02 -4.71191406e-02  1.78222656e-02\n",
            " -1.23046875e-01 -5.32226562e-02  2.68554688e-02 -3.11279297e-02\n",
            " -5.59082031e-02 -5.00488281e-02 -3.73535156e-02  1.25976562e-01\n",
            "  5.61523438e-02  1.51367188e-01  4.29687500e-02 -2.08007812e-01\n",
            " -4.78515625e-02  2.78320312e-02  1.81640625e-01  2.20703125e-01\n",
            " -3.61328125e-02 -8.39843750e-02 -3.69548798e-05 -9.52148438e-02\n",
            " -1.25000000e-01 -1.95312500e-01 -1.50390625e-01 -4.15039062e-02\n",
            "  1.31835938e-01  1.17675781e-01  1.91650391e-02  5.51757812e-02\n",
            " -9.42382812e-02 -1.08886719e-01  7.32421875e-02 -1.15234375e-01\n",
            "  8.93554688e-02 -1.40625000e-01  1.45507812e-01  4.49218750e-02\n",
            " -1.10473633e-02 -1.62353516e-02  4.05883789e-03  3.75976562e-02\n",
            " -6.98242188e-02 -5.46875000e-02  2.17285156e-02 -9.47265625e-02\n",
            "  4.24804688e-02  1.81884766e-02 -1.73339844e-02  4.63867188e-02\n",
            " -1.42578125e-01  1.99218750e-01  1.10839844e-01  2.58789062e-02\n",
            " -7.08007812e-02 -5.54199219e-02  3.45703125e-01  1.61132812e-01\n",
            " -2.44140625e-01 -2.59765625e-01 -9.71679688e-02  8.00781250e-02\n",
            " -8.78906250e-02 -7.22656250e-02  1.42578125e-01 -8.54492188e-02\n",
            " -3.18359375e-01  8.30078125e-02  6.34765625e-02  1.64062500e-01\n",
            " -1.92382812e-01 -1.17675781e-01 -5.41992188e-02 -1.56250000e-01\n",
            " -1.21582031e-01 -4.95605469e-02  1.20117188e-01 -3.83300781e-02\n",
            "  5.51757812e-02 -8.97216797e-03  4.32128906e-02  6.93359375e-02\n",
            "  8.93554688e-02  2.53906250e-01  1.65039062e-01  1.64062500e-01\n",
            " -1.41601562e-01  4.58984375e-02  1.97265625e-01 -8.98437500e-02\n",
            "  3.90625000e-02 -1.51367188e-01 -8.60595703e-03 -1.17675781e-01\n",
            " -1.97265625e-01 -1.12792969e-01  1.29882812e-01  1.96289062e-01\n",
            "  1.56402588e-03  3.93066406e-02  2.17773438e-01 -1.43554688e-01\n",
            "  6.03027344e-02 -1.35742188e-01  1.16210938e-01 -1.59912109e-02\n",
            "  2.79296875e-01  1.46484375e-01 -1.19628906e-01  1.76757812e-01\n",
            "  1.28906250e-01 -1.49414062e-01  6.93359375e-02 -1.72851562e-01\n",
            "  9.22851562e-02  1.33056641e-02 -2.00195312e-01 -9.76562500e-02\n",
            " -1.65039062e-01 -2.46093750e-01 -2.35595703e-02 -2.11914062e-01\n",
            "  1.84570312e-01 -1.85546875e-02  2.16796875e-01  5.05371094e-02\n",
            "  2.02636719e-02  4.25781250e-01  1.28906250e-01 -2.77099609e-02\n",
            "  1.29882812e-01 -1.15722656e-01 -2.05078125e-02  1.49414062e-01\n",
            "  7.81250000e-03 -2.05078125e-01 -8.05664062e-02 -2.67578125e-01\n",
            " -2.29492188e-02 -8.20312500e-02  8.64257812e-02  7.61718750e-02\n",
            " -3.66210938e-02  5.22460938e-02 -1.22070312e-01 -1.44042969e-02\n",
            " -2.69531250e-01  8.44726562e-02 -2.52685547e-02 -2.96630859e-02\n",
            " -1.68945312e-01  1.93359375e-01 -1.08398438e-01  1.94091797e-02\n",
            " -1.80664062e-01  1.93359375e-01 -7.08007812e-02  5.85937500e-02\n",
            " -1.01562500e-01 -1.31835938e-01  7.51953125e-02 -7.66601562e-02\n",
            "  3.37219238e-03 -8.59375000e-02  1.25000000e-01  2.92968750e-02\n",
            "  1.70898438e-01 -9.37500000e-02 -1.09375000e-01 -2.50244141e-02\n",
            "  2.11914062e-01 -4.44335938e-02  6.12792969e-02  2.62451172e-02\n",
            " -1.77734375e-01  1.23046875e-01 -7.42187500e-02 -1.67968750e-01\n",
            " -1.08886719e-01 -9.04083252e-04 -7.37304688e-02  5.49316406e-02\n",
            "  6.03027344e-02  8.39843750e-02  9.17968750e-02 -1.32812500e-01\n",
            "  1.22070312e-01 -8.78906250e-03  1.19140625e-01 -1.94335938e-01\n",
            " -6.64062500e-02 -2.07031250e-01  7.37304688e-02  8.93554688e-02\n",
            "  1.81884766e-02 -1.20605469e-01 -2.61230469e-02  2.67333984e-02\n",
            "  7.76367188e-02 -8.30078125e-02  6.78710938e-02 -3.54003906e-02\n",
            "  3.10546875e-01 -2.42919922e-02 -1.41601562e-01 -2.08007812e-01\n",
            " -4.57763672e-03 -6.54296875e-02 -4.95605469e-02  2.22656250e-01\n",
            "  1.53320312e-01 -1.38671875e-01 -5.24902344e-02  4.24804688e-02\n",
            " -2.38281250e-01  1.56250000e-01  5.83648682e-04 -1.20605469e-01\n",
            " -9.22851562e-02 -4.44335938e-02  3.61328125e-02 -1.86767578e-02\n",
            " -8.25195312e-02 -8.25195312e-02 -4.05273438e-02  1.19018555e-02\n",
            "  1.69921875e-01 -2.80761719e-02  3.03649902e-03  9.32617188e-02\n",
            " -8.49609375e-02  1.57470703e-02  7.03125000e-02  1.62353516e-02\n",
            " -2.27050781e-02  3.51562500e-02  2.47070312e-01 -2.67333984e-02]\n"
          ]
        }
      ],
      "source": [
        "from gensim.models import KeyedVectors\n",
        "\n",
        "DATASETPATH = '{filepath}' \n",
        "\n",
        "wv = KeyedVectors.load_word2vec_format(DATASETPATH, binary=True)\n",
        "\n",
        "print(wv['United_States'])"
      ]
    },
    {
      "cell_type": "code",
      "execution_count": null,
      "metadata": {
        "colab": {
          "base_uri": "https://localhost:8080/"
        },
        "id": "DjkbjRHHWsNb",
        "outputId": "342b438d-bfda-4c04-e3f5-e091565f955b"
      },
      "outputs": [
        {
          "name": "stdout",
          "output_type": "stream",
          "text": [
            "0.73107743\n"
          ]
        }
      ],
      "source": [
        "# 61\n",
        "\n",
        "print(wv.similarity('United_States', 'U.S.'))"
      ]
    },
    {
      "cell_type": "code",
      "execution_count": null,
      "metadata": {
        "colab": {
          "base_uri": "https://localhost:8080/"
        },
        "id": "jUQZgubNXb2o",
        "outputId": "b795a49e-a3ca-4777-9084-56d6422ce291"
      },
      "outputs": [
        {
          "name": "stdout",
          "output_type": "stream",
          "text": [
            "('Unites_States', 0.7877248525619507)\n",
            "('Untied_States', 0.7541370391845703)\n",
            "('United_Sates', 0.74007248878479)\n",
            "('U.S.', 0.7310774326324463)\n",
            "('theUnited_States', 0.6404393911361694)\n",
            "('America', 0.6178410053253174)\n",
            "('UnitedStates', 0.6167312264442444)\n",
            "('Europe', 0.6132988929748535)\n",
            "('countries', 0.6044804453849792)\n",
            "('Canada', 0.6019070148468018)\n"
          ]
        }
      ],
      "source": [
        "# 62\n",
        "\n",
        "united_similars = wv.similar_by_word(\"United_States\", topn=10)\n",
        "\n",
        "for similar in united_similars:\n",
        "  print(similar)"
      ]
    },
    {
      "cell_type": "code",
      "execution_count": null,
      "metadata": {
        "colab": {
          "base_uri": "https://localhost:8080/"
        },
        "id": "XKzYRcz9XmTM",
        "outputId": "4937dd00-f354-4afd-ece9-94dcb0120c71"
      },
      "outputs": [
        {
          "name": "stdout",
          "output_type": "stream",
          "text": [
            "('Athens', 0.7528455853462219)\n",
            "('Greece', 0.6685472726821899)\n",
            "('Aristeidis_Grigoriadis', 0.5495778322219849)\n",
            "('Ioannis_Drymonakos', 0.5361456871032715)\n",
            "('Greeks', 0.5351786613464355)\n",
            "('Ioannis_Christou', 0.5330226421356201)\n",
            "('Hrysopiyi_Devetzi', 0.5088489055633545)\n",
            "('Iraklion', 0.5059264898300171)\n",
            "('Greek', 0.5040615797042847)\n",
            "('Athens_Greece', 0.5034109354019165)\n"
          ]
        }
      ],
      "source": [
        "# 63\n",
        "\n",
        "diff_v = wv['Spain'] - wv['Madrid'] + wv['Athens'] \n",
        "\n",
        "similars = wv.similar_by_vector(diff_v, topn=10)\n",
        "\n",
        "for similar in similars:\n",
        "  print(similar)"
      ]
    },
    {
      "cell_type": "code",
      "execution_count": 2,
      "metadata": {
        "colab": {
          "base_uri": "https://localhost:8080/"
        },
        "id": "0IS90Eu1YReT",
        "outputId": "0b90fd64-9eb7-4080-92a5-c02af49f3265"
      },
      "outputs": [
        {
          "output_type": "stream",
          "name": "stdout",
          "text": [
            "--2023-01-23 14:43:43--  http://download.tensorflow.org/data/questions-words.txt\n",
            "Resolving download.tensorflow.org (download.tensorflow.org)... 142.250.145.128, 2a00:1450:4013:c14::80\n",
            "Connecting to download.tensorflow.org (download.tensorflow.org)|142.250.145.128|:80... connected.\n",
            "HTTP request sent, awaiting response... 200 OK\n",
            "Length: 603955 (590K) [text/plain]\n",
            "Saving to: ‘questions-words.txt’\n",
            "\n",
            "questions-words.txt 100%[===================>] 589.80K  --.-KB/s    in 0.002s  \n",
            "\n",
            "2023-01-23 14:43:44 (254 MB/s) - ‘questions-words.txt’ saved [603955/603955]\n",
            "\n"
          ]
        }
      ],
      "source": [
        "# 64\n",
        "\n",
        "!wget http://download.tensorflow.org/data/questions-words.txt"
      ]
    },
    {
      "cell_type": "code",
      "execution_count": 4,
      "metadata": {
        "id": "qJiJ-TkIVfSe"
      },
      "outputs": [],
      "source": [
        "import csv\n",
        "\n",
        "categories = []\n",
        "with open('/content/questions-words.txt', mode='r') as f:  # ファイル分割\n",
        "  valid_data = csv.reader(f, delimiter=' ')\n",
        "  filename = \"\"\n",
        "  for row in valid_data:\n",
        "    if ':' in row:\n",
        "      filename = 'questions-words-{}.txt'.format(row[1]) \n",
        "      categories.append(row[1])\n",
        "    with open('/content/{}'.format(filename), mode='a') as f:\n",
        "      writer = csv.writer(f, delimiter=' ')\n",
        "      writer.writerow(row)"
      ]
    },
    {
      "cell_type": "code",
      "execution_count": 8,
      "metadata": {
        "id": "zhuZhzXiYuB9"
      },
      "outputs": [],
      "source": [
        "from gensim.models import KeyedVectors\n",
        "\n",
        "DATASETPATH = '{filepath}' \n",
        "\n",
        "wv = KeyedVectors.load_word2vec_format(DATASETPATH, binary=True) \n",
        "\n"
      ]
    },
    {
      "cell_type": "code",
      "execution_count": null,
      "metadata": {
        "id": "90f4ZBaeGQp6"
      },
      "outputs": [],
      "source": [
        "import csv\n",
        "\n",
        "\n",
        "def calculate_per_categories(category):\n",
        "  with open('/content/questions-words-{}.txt'.format(category), mode='r') as f: \n",
        "    valid_data = csv.reader(f, delimiter=' ')\n",
        "    next(valid_data)\n",
        "    for row in valid_data:\n",
        "      word1, word2, word3 = row[:3]\n",
        "      vect1 = wv[word1]\n",
        "      vect2 = wv[word2]\n",
        "      vect3 = wv[word3]\n",
        "      diff_v = vect2 - vect1 + vect3\n",
        "      similar = wv.most_similar(positive=[diff_v], topn=1)[0]\n",
        "      with open('/content/questions-words-{}-with-similar'.format(category), mode='a') as f:\n",
        "        writer = csv.writer(f, delimiter=' ')\n",
        "        writer.writerow(row + list(similar))\n",
        "    print(f'{category} finished') \n"
      ]
    },
    {
      "cell_type": "code",
      "source": [
        "calculate_per_categories('capital-common-countries')"
      ],
      "metadata": {
        "colab": {
          "base_uri": "https://localhost:8080/"
        },
        "id": "-12Ufaho7O8k",
        "outputId": "54e2f5d2-84b3-4edc-994f-22907e862488"
      },
      "execution_count": null,
      "outputs": [
        {
          "output_type": "stream",
          "name": "stdout",
          "text": [
            "capital-common-countries finished\n"
          ]
        }
      ]
    },
    {
      "cell_type": "code",
      "execution_count": null,
      "metadata": {
        "colab": {
          "base_uri": "https://localhost:8080/"
        },
        "id": "QLSFDeksdv1T",
        "outputId": "a2758c54-bafb-45a6-a72e-7e1570ed2716"
      },
      "outputs": [
        {
          "output_type": "stream",
          "name": "stdout",
          "text": [
            "capital-world finished\n",
            "currency finished\n",
            "city-in-state finished\n",
            "family finished\n",
            "gram1-adjective-to-adverb finished\n",
            "gram2-opposite finished\n",
            "gram3-comparative finished\n",
            "gram4-superlative finished\n",
            "gram5-present-participle finished\n",
            "gram6-nationality-adjective finished\n",
            "gram7-past-tense finished\n",
            "gram8-plural finished\n",
            "gram9-plural-verbs finished\n"
          ]
        }
      ],
      "source": [
        "for category in categories[1:]:\n",
        "  calculate_per_categories(category)"
      ]
    },
    {
      "cell_type": "code",
      "execution_count": null,
      "metadata": {
        "colab": {
          "base_uri": "https://localhost:8080/"
        },
        "id": "sPlixCdvaUbq",
        "outputId": "c6be1ca2-b449-4fb7-a887-14e89a3cb79c"
      },
      "outputs": [
        {
          "output_type": "stream",
          "name": "stdout",
          "text": [
            "Semantic Analogy: 17.352576389671892 %\n",
            "Syntactic Analogy: 22.538641686182668 %\n"
          ]
        }
      ],
      "source": [
        "# 65\n",
        "sum_semantics = 0\n",
        "sum_syntactics = 0\n",
        "correct_semantics = 0\n",
        "correct_syntactics = 0\n",
        "\n",
        "for category in categories:\n",
        "  with open('/content/questions-words-{}-with-similar'.format(category), mode='r') as f: \n",
        "    valid_data = csv.reader(f, delimiter=' ')\n",
        "    for row in valid_data:\n",
        "      if 'gram' in category:\n",
        "        sum_syntactics += 1\n",
        "        if row[-2] == row[-3]:\n",
        "          correct_syntactics += 1\n",
        "      else:\n",
        "        sum_semantics += 1\n",
        "        if row[-2] == row[-3]:\n",
        "          correct_semantics += 1\n",
        "\n",
        "print('Semantic Analogy: {} %'.format(correct_semantics * 100 / sum_semantics))\n",
        "print('Syntactic Analogy: {} %'.format(correct_syntactics * 100 / sum_syntactics))"
      ]
    },
    {
      "cell_type": "code",
      "execution_count": 1,
      "metadata": {
        "id": "2ot5-rpmd_Ha",
        "colab": {
          "base_uri": "https://localhost:8080/"
        },
        "outputId": "f096d3a5-1f47-45ae-f053-7a2955fe735b"
      },
      "outputs": [
        {
          "output_type": "stream",
          "name": "stdout",
          "text": [
            "--2023-01-23 14:43:08--  https://gabrilovich.com/resources/data/wordsim353/wordsim353.zip\n",
            "Resolving gabrilovich.com (gabrilovich.com)... 208.97.177.37\n",
            "Connecting to gabrilovich.com (gabrilovich.com)|208.97.177.37|:443... connected.\n",
            "HTTP request sent, awaiting response... 200 OK\n",
            "Length: 23257 (23K) [application/zip]\n",
            "Saving to: ‘wordsim353.zip’\n",
            "\n",
            "wordsim353.zip      100%[===================>]  22.71K  --.-KB/s    in 0.08s   \n",
            "\n",
            "2023-01-23 14:43:09 (273 KB/s) - ‘wordsim353.zip’ saved [23257/23257]\n",
            "\n",
            "Archive:  wordsim353.zip\n",
            "  inflating: combined.csv            \n",
            "  inflating: set1.csv                \n",
            "  inflating: set2.csv                \n",
            "  inflating: combined.tab            \n",
            "  inflating: set1.tab                \n",
            "  inflating: set2.tab                \n",
            "  inflating: instructions.txt        \n"
          ]
        }
      ],
      "source": [
        "# 66\n",
        "!wget https://gabrilovich.com/resources/data/wordsim353/wordsim353.zip\n",
        "!unzip wordsim353.zip"
      ]
    },
    {
      "cell_type": "code",
      "source": [
        "from scipy.stats import spearmanr\n",
        "\n",
        "\n",
        "human_ranking = []\n",
        "with open('/content/combined.csv') as f:\n",
        "  data = csv.reader(f, delimiter=',')\n",
        "  next(data)\n",
        "  human_ranking = [row for row in data]\n",
        "human_ranking = [row[:2] for row in sorted(human_ranking, key=lambda x: float(x[2]), reverse=True)]\n",
        "\n",
        "wv_ranking = []\n",
        "for row in human_ranking:\n",
        "  word1, word2 = row[:2]\n",
        "  similarity = wv.similarity(word1, word2)\n",
        "  wv_ranking.append([word1, word2, similarity])\n",
        "wv_ranking = [''.join(row[:2]) for row in sorted(wv_ranking, key=lambda x: x[2], reverse=True)]\n",
        "human_ranking = [''.join(row) for row in human_ranking]\n",
        "correlation, pvalue = spearmanr(human_ranking, wv_ranking)\n",
        "print(correlation)"
      ],
      "metadata": {
        "colab": {
          "base_uri": "https://localhost:8080/"
        },
        "id": "cQQQJzgUXKsa",
        "outputId": "0d4af17f-c049-43c6-fa84-582b9bee8c03"
      },
      "execution_count": null,
      "outputs": [
        {
          "output_type": "stream",
          "name": "stdout",
          "text": [
            "-0.0764067835358472\n"
          ]
        }
      ]
    },
    {
      "cell_type": "code",
      "source": [
        ", kmeans_plusplus\n",
        "# 67\n",
        "from sklearn.cluster import KMeans\n",
        "import numpy as np\n",
        "import matplotlib.pylab as plt\n",
        "\n",
        "CLASS_NUM = 5\n",
        "\n",
        "countries = set()\n",
        "with open('/content/questions-words-capital-common-countries.txt') as f:\n",
        "  data = csv.reader(f, delimiter=' ')\n",
        "  next(data)\n",
        "\n",
        "  for row in data:\n",
        "    countries.add(row[1])\n",
        "    countries.add(row[3])\n",
        "with open('/content/questions-words-capital-world.txt') as f:\n",
        "  data = csv.reader(f, delimiter=' ')\n",
        "  next(data)\n",
        "\n",
        "  for row in data:\n",
        "    countries.add(row[1])\n",
        "    countries.add(row[3])\n",
        "with open('/content/questions-words-currency.txt') as f:\n",
        "  data = csv.reader(f, delimiter=' ')\n",
        "  next(data)\n",
        "\n",
        "  for row in data:\n",
        "    countries.add(row[0])\n",
        "    countries.add(row[2])\n",
        "with open('/content/questions-words-gram6-nationality-adjective.txt') as f:\n",
        "  data = csv.reader(f, delimiter=' ')\n",
        "  next(data)\n",
        "\n",
        "  for row in data:\n",
        "    countries.add(row[0])\n",
        "    countries.add(row[2])\n",
        "countries = list(countries)\n",
        "\n",
        "words = np.array([wv[country] for country in countries])\n",
        "\n",
        "kmeans = KMeans(n_clusters=5)\n",
        "pred = kmeans.fit_predict(words)\n",
        "\n",
        "results = sorted([[countries[i], pred[i]] for i in range(len(countries))], key=lambda x: x[1])\n",
        "print('Country\\tCategory')\n",
        "for result in results:\n",
        "  print(f'{result[0]}\\t{result[1]}')"
      ],
      "metadata": {
        "colab": {
          "base_uri": "https://localhost:8080/"
        },
        "id": "bzmaKQu0Z-kI",
        "outputId": "bc3db7a6-1e6f-413b-ae4c-b85fa39b6e79"
      },
      "execution_count": 97,
      "outputs": [
        {
          "output_type": "stream",
          "name": "stdout",
          "text": [
            "Country\tCategory\n",
            "Tunisia\t0\n",
            "Eritrea\t0\n",
            "Ghana\t0\n",
            "Sudan\t0\n",
            "Zimbabwe\t0\n",
            "Zambia\t0\n",
            "Angola\t0\n",
            "Burundi\t0\n",
            "Nigeria\t0\n",
            "Guinea\t0\n",
            "Libya\t0\n",
            "Gambia\t0\n",
            "Gabon\t0\n",
            "Mali\t0\n",
            "Madagascar\t0\n",
            "Somalia\t0\n",
            "Algeria\t0\n",
            "Niger\t0\n",
            "Mozambique\t0\n",
            "Uganda\t0\n",
            "Mauritania\t0\n",
            "Senegal\t0\n",
            "Kenya\t0\n",
            "Namibia\t0\n",
            "Botswana\t0\n",
            "Liberia\t0\n",
            "Rwanda\t0\n",
            "Malawi\t0\n",
            "Iraq\t1\n",
            "Taiwan\t1\n",
            "Australia\t1\n",
            "Morocco\t1\n",
            "China\t1\n",
            "Japan\t1\n",
            "Egypt\t1\n",
            "Pakistan\t1\n",
            "Korea\t1\n",
            "Jordan\t1\n",
            "Bahrain\t1\n",
            "Laos\t1\n",
            "Cambodia\t1\n",
            "Bangladesh\t1\n",
            "Bhutan\t1\n",
            "Canada\t1\n",
            "Philippines\t1\n",
            "Indonesia\t1\n",
            "USA\t1\n",
            "Afghanistan\t1\n",
            "Fiji\t1\n",
            "Vietnam\t1\n",
            "Thailand\t1\n",
            "Israel\t1\n",
            "Malaysia\t1\n",
            "Iran\t1\n",
            "Nepal\t1\n",
            "Oman\t1\n",
            "Qatar\t1\n",
            "Syria\t1\n",
            "India\t1\n",
            "Lebanon\t1\n",
            "Peru\t2\n",
            "Honduras\t2\n",
            "Belize\t2\n",
            "Ecuador\t2\n",
            "Dominica\t2\n",
            "Tuvalu\t2\n",
            "Venezuela\t2\n",
            "Uruguay\t2\n",
            "Cuba\t2\n",
            "Nicaragua\t2\n",
            "Chile\t2\n",
            "Samoa\t2\n",
            "Suriname\t2\n",
            "Guyana\t2\n",
            "Argentina\t2\n",
            "Bahamas\t2\n",
            "Jamaica\t2\n",
            "Mexico\t2\n",
            "Colombia\t2\n",
            "Brazil\t2\n",
            "Serbia\t3\n",
            "Romania\t3\n",
            "Moldova\t3\n",
            "Russia\t3\n",
            "Armenia\t3\n",
            "Georgia\t3\n",
            "Ukraine\t3\n",
            "Lithuania\t3\n",
            "Kazakhstan\t3\n",
            "Macedonia\t3\n",
            "Montenegro\t3\n",
            "Azerbaijan\t3\n",
            "Kyrgyzstan\t3\n",
            "Albania\t3\n",
            "Tajikistan\t3\n",
            "Uzbekistan\t3\n",
            "Turkmenistan\t3\n",
            "Belarus\t3\n",
            "Bulgaria\t3\n",
            "Turkey\t3\n",
            "Greece\t4\n",
            "Slovenia\t4\n",
            "Switzerland\t4\n",
            "France\t4\n",
            "Hungary\t4\n",
            "Poland\t4\n",
            "Slovakia\t4\n",
            "Iceland\t4\n",
            "Denmark\t4\n",
            "Croatia\t4\n",
            "Netherlands\t4\n",
            "Europe\t4\n",
            "Belgium\t4\n",
            "Spain\t4\n",
            "Sweden\t4\n",
            "Latvia\t4\n",
            "Portugal\t4\n",
            "Germany\t4\n",
            "Liechtenstein\t4\n",
            "Italy\t4\n",
            "Greenland\t4\n",
            "Finland\t4\n",
            "Norway\t4\n",
            "England\t4\n",
            "Cyprus\t4\n",
            "Ireland\t4\n",
            "Malta\t4\n",
            "Austria\t4\n",
            "Estonia\t4\n"
          ]
        }
      ]
    },
    {
      "cell_type": "code",
      "source": [
        "# 68\n",
        "import matplotlib.pyplot as plt\n",
        "import scipy.cluster.hierarchy\n",
        "import scipy.spatial.distance\n",
        "\n",
        "\n",
        "D = scipy.spatial.distance.pdist(words, 'euclidean')\n",
        "# Ward's Method\n",
        "Z = scipy.cluster.hierarchy.linkage(D, 'ward')\n",
        "fig, ax = plt.subplots(dpi=100)\n",
        "dn = scipy.cluster.hierarchy.dendrogram(Z, labels=list(countries), ax=ax)\n",
        "ax.set_ylabel(\"Distance\")\n",
        "plt.xticks(rotation=90)\n",
        "plt.show()\n"
      ],
      "metadata": {
        "colab": {
          "base_uri": "https://localhost:8080/",
          "height": 396
        },
        "id": "Vet5h2qjFlAA",
        "outputId": "db5edfa7-de6a-4ba8-f1b5-685c31d08ad6"
      },
      "execution_count": 95,
      "outputs": [
        {
          "output_type": "display_data",
          "data": {
            "text/plain": [
              "<Figure size 600x400 with 1 Axes>"
            ],
            "image/png": "[encoded data removed]"
          },
          "metadata": {
            "needs_background": "light"
          }
        }
      ]
    },
    {
      "cell_type": "code",
      "source": [
        "# 69\n",
        "import pandas as pd\n",
        "from sklearn.manifold import TSNE\n",
        "\n",
        "\n",
        "tsne = TSNE(n_components=2, random_state = 0, perplexity = 30, n_iter = 1000)\n",
        "\n",
        "X_embedded = tsne.fit_transform(words)\n",
        "ddf = pd.DataFrame(X_embedded, columns = ['col1', 'col2'])\n",
        "\n",
        "plt.figure(figsize = (30, 30))\n",
        "for i , v, color in zip(range(len(countries)), countries, kmeans.labels_):\n",
        "    plt.scatter(ddf['col1'][i],  \n",
        "                ddf['col2'][i],\n",
        "                label=v,\n",
        "                color='C{}'.format(color)\n",
        "                )\n"
      ],
      "metadata": {
        "colab": {
          "base_uri": "https://localhost:8080/",
          "height": 980
        },
        "id": "TrJuLgy7H0Sg",
        "outputId": "92e80992-8893-4513-fa4e-953f93c34152"
      },
      "execution_count": 101,
      "outputs": [
        {
          "output_type": "stream",
          "name": "stderr",
          "text": [
            "/usr/local/lib/python3.8/dist-packages/sklearn/manifold/_t_sne.py:780: FutureWarning: The default initialization in TSNE will change from 'random' to 'pca' in 1.2.\n",
            "  warnings.warn(\n",
            "/usr/local/lib/python3.8/dist-packages/sklearn/manifold/_t_sne.py:790: FutureWarning: The default learning rate in TSNE will change from 200.0 to 'auto' in 1.2.\n",
            "  warnings.warn(\n"
          ]
        },
        {
          "output_type": "display_data",
          "data": {
            "text/plain": [
              "<Figure size 2160x2160 with 1 Axes>"
            ],
            "image/png": "[encoded data removed]"
          },
          "metadata": {
            "needs_background": "light"
          }
        }
      ]
    },
    {
      "cell_type": "code",
      "source": [],
      "metadata": {
        "colab": {
          "base_uri": "https://localhost:8080/"
        },
        "id": "HwumgFBeOIGl",
        "outputId": "6c93a486-7d1e-4a24-ff8e-fee127a039be"
      },
      "execution_count": 93,
      "outputs": [
        {
          "output_type": "stream",
          "name": "stdout",
          "text": [
            "125\n"
          ]
        }
      ]
    }
  ],
  "metadata": {
    "colab": {
      "provenance": [],
      "authorship_tag": "ABX9TyMHEqi7B8BIqN5OfLB6nJ45"
    },
    "kernelspec": {
      "display_name": "Python 3",
      "name": "python3"
    },
    "language_info": {
      "name": "python"
    }
  },
  "nbformat": 4,
  "nbformat_minor": 0
}