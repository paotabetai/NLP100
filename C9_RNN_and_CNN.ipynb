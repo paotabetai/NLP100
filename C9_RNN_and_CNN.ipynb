{
  "nbformat": 4,
  "nbformat_minor": 0,
  "metadata": {
    "colab": {
      "provenance": [],
      "authorship_tag": "ABX9TyN/WAtB6Tm0IxDfQlKODqfj",
      "include_colab_link": true
    },
    "kernelspec": {
      "name": "python3",
      "display_name": "Python 3"
    },
    "language_info": {
      "name": "python"
    },
    "accelerator": "GPU",
    "gpuClass": "standard"
  },
  "cells": [
    {
      "cell_type": "markdown",
      "metadata": {
        "id": "view-in-github",
        "colab_type": "text"
      },
      "source": [
        "<a href=\"https://colab.research.google.com/github/paotabetai/NLP100/blob/master/C9_RNN_and_CNN.ipynb\" target=\"_parent\"><img src=\"https://colab.research.google.com/assets/colab-badge.svg\" alt=\"Open In Colab\"/></a>"
      ]
    },
    {
      "cell_type": "code",
      "execution_count": null,
      "metadata": {
        "colab": {
          "base_uri": "https://localhost:8080/"
        },
        "id": "-oMSTuiyvDdd",
        "outputId": "8e4e2539-cfa4-4060-a6b9-b8b01ff59de9"
      },
      "outputs": [
        {
          "output_type": "stream",
          "name": "stdout",
          "text": [
            "Mounted at /content/drive\n"
          ]
        }
      ],
      "source": [
        "## 同一ディレクトリ内にhttps://drive.google.com/file/d/0B7XkCwpI5KDYNlNUTTlSS21pQmM/edit?resourcekey=0-wjGZdNAUop6WykTtMip30g からダウンロードした学習済み単語ベクトルを配置しているものとする\n",
        "\n",
        "from google.colab import drive\n",
        "\n",
        "drive.mount('/content/drive')"
      ]
    },
    {
      "cell_type": "code",
      "source": [
        "!wget https://archive.ics.uci.edu/ml/machine-learning-databases/00359/NewsAggregatorDataset.zip"
      ],
      "metadata": {
        "colab": {
          "base_uri": "https://localhost:8080/"
        },
        "id": "IHg_7sfDvcx0",
        "outputId": "a09b60bc-83e5-4502-9910-ac7a4d02f19c"
      },
      "execution_count": null,
      "outputs": [
        {
          "output_type": "stream",
          "name": "stdout",
          "text": [
            "--2023-04-02 12:09:59--  https://archive.ics.uci.edu/ml/machine-learning-databases/00359/NewsAggregatorDataset.zip\n",
            "Resolving archive.ics.uci.edu (archive.ics.uci.edu)... 128.195.10.252\n",
            "Connecting to archive.ics.uci.edu (archive.ics.uci.edu)|128.195.10.252|:443... connected.\n",
            "HTTP request sent, awaiting response... 200 OK\n",
            "Length: 29224203 (28M) [application/x-httpd-php]\n",
            "Saving to: ‘NewsAggregatorDataset.zip’\n",
            "\n",
            "NewsAggregatorDatas 100%[===================>]  27.87M  61.2MB/s    in 0.5s    \n",
            "\n",
            "2023-04-02 12:09:59 (61.2 MB/s) - ‘NewsAggregatorDataset.zip’ saved [29224203/29224203]\n",
            "\n"
          ]
        }
      ]
    },
    {
      "cell_type": "code",
      "source": [
        "!unzip NewsAggregatorDataset.zip"
      ],
      "metadata": {
        "colab": {
          "base_uri": "https://localhost:8080/"
        },
        "id": "GTOdSlI6v0w8",
        "outputId": "8110af4b-4d5a-455e-f1bc-39c5a03f2e16"
      },
      "execution_count": null,
      "outputs": [
        {
          "output_type": "stream",
          "name": "stdout",
          "text": [
            "Archive:  NewsAggregatorDataset.zip\n",
            "  inflating: 2pageSessions.csv       \n",
            "   creating: __MACOSX/\n",
            "  inflating: __MACOSX/._2pageSessions.csv  \n",
            "  inflating: newsCorpora.csv         \n",
            "  inflating: __MACOSX/._newsCorpora.csv  \n",
            "  inflating: readme.txt              \n",
            "  inflating: __MACOSX/._readme.txt   \n"
          ]
        }
      ]
    },
    {
      "cell_type": "code",
      "source": [
        "import random\n",
        "\n",
        "TARGET_PUBLISHERS = [\n",
        "  'Reuters',\\\n",
        "  'Huffington Post',\\\n",
        "  'Businessweek',\\\n",
        "  'Contactmusic.com',\\\n",
        "  'Daily Mail'\n",
        "]\n",
        "\n",
        "CATEGORIES = [\n",
        "    'b',\n",
        "    't',\n",
        "    'e',\n",
        "    'm'\n",
        "]\n",
        "\n",
        "with open('./newsCorpora.csv') as f:\n",
        "   _all_news = [news.split('\\t')[1] + '\\t' + news.split('\\t')[4] for news in f.readlines() if news.split('\\t')[3] in TARGET_PUBLISHERS]\n",
        "\n",
        "max_length = 0\n",
        "\n",
        "for news in _all_news:\n",
        "  if len(news.split('\\t')[0].split(' ')) > max_length:\n",
        "    max_length = len(news.split('\\t')[0].split(' '))\n",
        "\n",
        "all_news = []\n",
        "\n",
        "for news in _all_news:\n",
        "  diff = max_length - len(news.split('\\t')[0].split(' ')) \n",
        "  news = 'BOS ' * (diff + 1) + news.split('\\t')[0] + ' EOS' + '\\t' + news.split('\\t')[1] + '\\n'\n",
        "  all_news.append(news)\n",
        "\n",
        "random.shuffle(all_news)\n",
        "\n",
        "train_data_num = len(all_news)  * 8 // 10\n",
        "valid_data_num = len(all_news)  * 9 // 10\n",
        "train_data = all_news[: train_data_num]\n",
        "valid_data = all_news[train_data_num : valid_data_num]\n",
        "test_data = all_news[valid_data_num :]\n",
        "\n",
        "with open('./train.txt', mode='w') as f:\n",
        "  f.writelines(train_data)\n",
        "\n",
        "with open('./valid.txt', mode='w') as f:\n",
        "  f.writelines(valid_data)\n",
        "\n",
        "with open('./test.txt', mode='w') as f:\n",
        "  f.writelines(test_data)\n",
        "\n",
        "print(f'学習データ事例数: {len(train_data)}')\n",
        "print(f'評価データ事例数: {len(test_data)}')"
      ],
      "metadata": {
        "colab": {
          "base_uri": "https://localhost:8080/"
        },
        "id": "xpXCWqOqv3XW",
        "outputId": "976fb848-118c-4d1d-ae14-f0d88e270659"
      },
      "execution_count": null,
      "outputs": [
        {
          "output_type": "stream",
          "name": "stdout",
          "text": [
            "学習データ事例数: 10684\n",
            "評価データ事例数: 1336\n"
          ]
        }
      ]
    },
    {
      "cell_type": "code",
      "source": [
        "# 80\n",
        "\n",
        "def calculate_id(filepath):\n",
        "  word_dic = {}\n",
        "  result = {}\n",
        "  with open(filepath, mode='r') as f:\n",
        "    data = f.readlines()\n",
        "    for row in data:\n",
        "      for word in row.split('\\t')[0].strip(\"'\").split(' '):\n",
        "        if not word in word_dic:\n",
        "          word_dic[word] = 0\n",
        "        if word not in ['BOS', 'EOS', '...', '', '-']:\n",
        "          word_dic[word] += 1\n",
        "  sorted_words = sorted([(key, value) for key, value in word_dic.items()], key=lambda x: x[1], reverse=True)\n",
        "  i = 0\n",
        "  for word in sorted_words:\n",
        "    if word[1] > 1:\n",
        "      i += 1\n",
        "      result[word[0]] = i\n",
        "    else:\n",
        "      result[word[0]] = 0\n",
        "  return result, i\n",
        "\n",
        "words, T = calculate_id('./train.txt')\n"
      ],
      "metadata": {
        "id": "_LceNXMFv5pS"
      },
      "execution_count": null,
      "outputs": []
    },
    {
      "cell_type": "code",
      "source": [
        "import numpy as np\n",
        "import torch\n",
        "import torch.nn as nn\n",
        "from torch.utils.data import TensorDataset, DataLoader\n",
        "\n",
        "\n",
        "if torch.cuda.is_available():\n",
        "    d_type = \"cuda:0\"\n",
        "else:\n",
        "    d_type = \"cpu\"\n",
        "\n",
        "device = torch.device(d_type)\n",
        "\n",
        "class RNN(nn.Module):\n",
        "\n",
        "  def __init__(self,\n",
        "               input_size,\n",
        "               hidden_size,\n",
        "               output_size,\n",
        "               n_layers):\n",
        "    super(RNN, self).__init__()\n",
        "    self.n_layers = n_layers\n",
        "    self.hidden_size = hidden_size\n",
        "    self.rnn = nn.RNN(input_size, hidden_size, n_layers, batch_first=True)\n",
        "    self.fc = nn.Linear(hidden_size, output_size)\n",
        "\n",
        "  def forward(self, x):\n",
        "    batch_size = x.size()[0]\n",
        "    x_rnn, hidden = self.rnn(x, None)\n",
        "    x = torch.nn.functional.softmax(self.fc(x_rnn[:, -1, :]), dim=1)\n",
        "    return x\n",
        "\n"
      ],
      "metadata": {
        "id": "hkujnejy5nI2"
      },
      "execution_count": null,
      "outputs": []
    },
    {
      "cell_type": "code",
      "source": [
        "# 81, 82, 83\n",
        "import numpy as np\n",
        "import torch\n",
        "import torch.nn as nn\n",
        "from torch.utils.data import TensorDataset, DataLoader\n",
        "import matplotlib.pyplot as plt\n",
        "\n",
        "\n",
        "dw = 300\n",
        "dh = 50\n",
        "BATCHSIZE = 1\n",
        "EPOCH = 10\n",
        "\n",
        "with open('./train.txt') as f:\n",
        "  news = f.readlines()\n",
        "  _X = [n.split('\\t')[0] for n in news]\n",
        "  _Y = [n.split('\\t')[1] for n in news]\n",
        "  X = []\n",
        "  Y = []\n",
        "  for x in _X:\n",
        "    w_list = x.split(' ')\n",
        "    wvs = []\n",
        "    for w in w_list:\n",
        "      if words[w] <= dw - 1:\n",
        "        wv = np.zeros(dw)\n",
        "        wv[words[w]] = 1\n",
        "      else:\n",
        "        wv = np.zeros(dw)\n",
        "        wv[0] = 1\n",
        "      wvs.append(wv)\n",
        "    X.append(wvs)\n",
        "  \n",
        "  for y in _Y:\n",
        "    yv = np.zeros(len(CATEGORIES))\n",
        "    yv[CATEGORIES.index(y.strip())] = 1\n",
        "    Y.append(yv)\n",
        "\n",
        "dtype = torch.float\n",
        "X = torch.from_numpy(np.array(X)).type(dtype).to(device)\n",
        "Y = torch.from_numpy(np.array(Y)).type(dtype).to(device)\n",
        "dataset = TensorDataset(X, Y)\n",
        "loader = DataLoader(dataset, batch_size=BATCHSIZE, shuffle=True)\n",
        "\n",
        "\n",
        "with open('./test.txt') as f:\n",
        "  news = f.readlines()\n",
        "  _X = [n.split('\\t')[0] for n in news]\n",
        "  _Y = [n.split('\\t')[1] for n in news]\n",
        "  test_X = []\n",
        "  test_Y = []\n",
        "  for x in _X:\n",
        "    w_list = x.split(' ')\n",
        "    wvs = []\n",
        "    for w in w_list:\n",
        "      if w in words and words[w] <= dw - 1:\n",
        "        wv = np.zeros(dw)\n",
        "        wv[words[w]] = 1\n",
        "      else:\n",
        "        wv = np.zeros(dw)\n",
        "        wv[0] = 1\n",
        "      wvs.append(wv)\n",
        "    test_X.append(wvs)\n",
        "  \n",
        "  for y in _Y:\n",
        "    yv = np.zeros(len(CATEGORIES))\n",
        "    yv[CATEGORIES.index(y.strip())] = 1\n",
        "    test_Y.append(yv)\n",
        "\n",
        "dtype = torch.float\n",
        "test_X = torch.from_numpy(np.array(test_X)).type(dtype).to(device)\n",
        "test_Y = torch.from_numpy(np.array(test_Y)).type(dtype).to(device)\n",
        "testdataset = TensorDataset(test_X, test_Y)\n",
        "testloader = DataLoader(testdataset, batch_size=BATCHSIZE, shuffle=True)\n",
        "\n",
        "\n",
        "model = RNN(dw, dh, len(CATEGORIES), 1).to(device)\n",
        "loss_fn = torch.nn.CrossEntropyLoss()\n",
        "optimizer = torch.optim.SGD(model.parameters(), lr=0.5)\n",
        "\n",
        "train_losses = []\n",
        "train_accuracy = []\n",
        "test_losses = []\n",
        "test_accuracy = []\n",
        "for i in range(EPOCH):\n",
        "  for x,y in loader:\n",
        "    y_hat = model(x)\n",
        "    loss = loss_fn(y_hat, y)\n",
        "\n",
        "    optimizer.zero_grad()\n",
        "    loss.backward()\n",
        "    optimizer.step()\n",
        "\n",
        "  correct = 0\n",
        "  num_train = 0\n",
        "\n",
        "  for x, y in loader:\n",
        "      y_hat = model(x)\n",
        "      y_hat_max_index = torch.argmax(y_hat)\n",
        "      y_max_index = torch.argmax(y)\n",
        "      if y_hat_max_index == y_max_index:\n",
        "        correct += 1\n",
        "      num_train += 1\n",
        "  train_losses.append(float(loss))\n",
        "  train_accuracy.append(correct/num_train)\n",
        "  optimizer.zero_grad()\n",
        "\n",
        "  correct = 0\n",
        "  num_test = 0\n",
        "\n",
        "  for x, y in testloader:\n",
        "      y_hat = model(x)\n",
        "      y_hat_max_index = torch.argmax(y_hat)\n",
        "      y_max_index = torch.argmax(y)\n",
        "      if y_hat_max_index == y_max_index:\n",
        "        correct += 1\n",
        "      num_test += 1\n",
        "      loss = loss_fn(y_hat, y)\n",
        "\n",
        "      optimizer.zero_grad()\n",
        "      loss.backward()\n",
        "      optimizer.step()\n",
        "  test_losses.append(float(loss))\n",
        "  test_accuracy.append(correct/num_test)\n",
        "  optimizer.zero_grad()\n",
        "\n",
        "  print(f\"EPOCH {i}\")\n",
        "\n",
        "fig = plt.figure(figsize = (10,10))\n",
        "ax1 = fig.add_subplot(2, 1, 1)\n",
        "ax2 = fig.add_subplot(2, 1, 2)\n",
        "ax1.plot([i for i in range(len(train_losses))], train_losses, label=\"Loss function(training)\")\n",
        "ax1.plot([i for i in range(len(test_losses))], test_losses, label=\"Loss function(test)\")\n",
        "ax2.plot([i for i in range(len(train_accuracy))], train_accuracy, label=\"Accuracy(training)\")\n",
        "ax2.plot([i for i in range(len(test_accuracy))], test_accuracy, label=\"Accuracy(test)\")\n",
        "ax1.legend()\n",
        "ax2.legend() # Google Colaboratoryでは動的なグラフ生成が手間なため割愛"
      ],
      "metadata": {
        "id": "8kApUNHf2ITc",
        "colab": {
          "base_uri": "https://localhost:8080/",
          "height": 1000
        },
        "outputId": "72fd5fe8-9e44-4ede-b717-0a35fb177903"
      },
      "execution_count": null,
      "outputs": [
        {
          "output_type": "stream",
          "name": "stdout",
          "text": [
            "EPOCH 0\n",
            "EPOCH 1\n",
            "EPOCH 2\n",
            "EPOCH 3\n",
            "EPOCH 4\n",
            "EPOCH 5\n",
            "EPOCH 6\n",
            "EPOCH 7\n",
            "EPOCH 8\n",
            "EPOCH 9\n"
          ]
        },
        {
          "output_type": "execute_result",
          "data": {
            "text/plain": [
              "<matplotlib.legend.Legend at 0x7f55d0aeed60>"
            ]
          },
          "metadata": {},
          "execution_count": 109
        },
        {
          "output_type": "display_data",
          "data": {
            "text/plain": [
              "<Figure size 1000x1000 with 2 Axes>"
            ],
            "image/png": "[encoded data removed]"
          },
          "metadata": {}
        }
      ]
    },
    {
      "cell_type": "code",
      "source": [
        "# 84\n",
        "from gensim.models import KeyedVectors\n",
        "\n",
        "DATASETPATH = '/content/drive/MyDrive/Colab Notebooks/NLP100/GoogleNews-vectors-negative300.bin' \n",
        "\n",
        "wv = KeyedVectors.load_word2vec_format(DATASETPATH, binary=True)"
      ],
      "metadata": {
        "colab": {
          "base_uri": "https://localhost:8080/"
        },
        "id": "cu4X4ItpXLZi",
        "outputId": "b5b9a7fb-9fe5-4686-fd5b-0c4411ec51b9"
      },
      "execution_count": null,
      "outputs": [
        {
          "output_type": "stream",
          "name": "stdout",
          "text": [
            "tensor([[0.2412, 0.1931, 0.2662, 0.2995],\n",
            "        [0.2383, 0.1905, 0.2701, 0.3011]], device='cuda:0',\n",
            "       grad_fn=<SoftmaxBackward0>)\n"
          ]
        }
      ]
    },
    {
      "cell_type": "code",
      "source": [
        "!rm *g_*.csv\n",
        "\n",
        "\n",
        "import csv\n",
        "\n",
        "\n",
        "NEWS_CATEGORIES = {\n",
        "    'b' : 0,\n",
        "    't' : 1,\n",
        "    'e' : 2,\n",
        "    'm' : 3\n",
        "}\n",
        "\n",
        "with open('./newsCorpora.csv') as f:\n",
        "  reader = csv.reader(f, delimiter='\\t')\n",
        "  all_news = [[news[4], news[1]] for news in reader if news[3] in TARGET_PUBLISHERS]\n",
        "\n",
        "random.shuffle(all_news)\n",
        "\n",
        "train_data_num = len(all_news)  * 8 // 10\n",
        "valid_data_num = len(all_news)  * 9 // 10\n",
        "train_data = all_news[: train_data_num]\n",
        "valid_data = all_news[train_data_num : valid_data_num]\n",
        "test_data = all_news[valid_data_num :]\n",
        "\n",
        "def vector_create(X, filepath):\n",
        "  for news in X:\n",
        "    title, category = news[1], news[0]\n",
        "    words = []\n",
        "    for word in title.split(' '):\n",
        "      if word:\n",
        "        N = 0\n",
        "        try:\n",
        "          words.append(wv[word]) #. most_similarで抽出しようとするとメモリが死ぬため、データセットに存在する場合のみ扱う\n",
        "        except:\n",
        "          continue\n",
        "    if words is not None:\n",
        "      word_v = np.zeros(300)\n",
        "      with open(f'./{filepath}_g_x.csv', mode='a') as f:\n",
        "        f.write(str(','.join(words)) + '\\n')\n",
        "      y = NEWS_CATEGORIES[news[0]]\n",
        "      with open(f'./{filepath}_g_y.csv', mode='a') as f:\n",
        "        f.write(str(y) + '\\n')\n",
        "\n",
        "vector_create(train_data, 'train')\n",
        "vector_create(valid_data, 'valid')\n",
        "vector_create(test_data, 'test')\n",
        "\n",
        "\n",
        "train_X = []\n",
        "with open(f'./train_g_x.csv', mode='r') as f:\n",
        "  train_X = list(csv.reader(f, delimiter=','))\n",
        "train_Y = []\n",
        "with open(f'./train_g_y.csv', mode='r') as f:\n",
        "  data = list(csv.reader(f, delimiter=','))\n",
        "  for row in data:\n",
        "    y = int(row[0])\n",
        "    _Y = np.zeros(4)\n",
        "    _Y[y] = 1\n",
        "    train_Y.append(_Y)\n",
        "train_X = np.array([[float(x_i) for x_i in x] for x in train_X])\n",
        "train_Y = np.array(train_Y)\n",
        "dtype = torch.float\n",
        "X = torch.from_numpy(train_X).type(dtype)\n",
        "Y = torch.from_numpy(train_Y).type(dtype)\n",
        "X_GPU = X.to('cuda')\n",
        "Y_GPU = Y.to('cuda')\n",
        "dataset = TensorDataset(X_GPU, Y_GPU)\n",
        "loader = DataLoader(dataset, batch_size=8, shuffle=True)\n",
        "\n",
        "\n",
        "\n",
        "test_X = []\n",
        "with open(f'./test_g_x.csv', mode='r') as f:\n",
        "  test_X = list(csv.reader(f, delimiter=','))\n",
        "test_Y = []\n",
        "with open(f'./test_g_y.csv', mode='r') as f:\n",
        "  data = list(csv.reader(f, delimiter=','))\n",
        "  for row in data:\n",
        "    y = int(row[0])\n",
        "    _Y = np.zeros(4)\n",
        "    _Y[y] = 1\n",
        "    test_Y.append(_Y)\n",
        "test_X = np.array([[float(x_i) for x_i in x] for x in test_X])\n",
        "test_Y = np.array(test_Y)\n",
        "dtype = torch.float\n",
        "test_X = torch.from_numpy(test_X).type(dtype)\n",
        "test_Y = torch.from_numpy(test_Y).type(dtype)\n",
        "test_X_GPU = test_X.to('cuda')\n",
        "test_Y_GPU = test_Y.to('cuda')\n",
        "test_dataset = TensorDataset(test_X_GPU, test_Y_GPU)\n",
        "testloader = DataLoader(test_dataset, batch_size=8, shuffle=True)\n",
        "\n",
        "\n",
        "model = RNN(dw, dh, len(CATEGORIES), 1).to(device)\n",
        "loss_fn = torch.nn.CrossEntropyLoss()\n",
        "optimizer = torch.optim.SGD(model.parameters(), lr=0.5)\n"
      ],
      "metadata": {
        "colab": {
          "base_uri": "https://localhost:8080/"
        },
        "id": "z1VMxLTqFiLF",
        "outputId": "69fb26c3-5dda-44d6-aa25-7c15c3fb24dd"
      },
      "execution_count": null,
      "outputs": [
        {
          "output_type": "stream",
          "name": "stdout",
          "text": [
            "rm: cannot remove '*g_*.csv': No such file or directory\n"
          ]
        }
      ]
    },
    {
      "cell_type": "code",
      "source": [
        "dw = 300\n",
        "dh = 50\n",
        "BATCHSIZE = 1\n",
        "EPOCH = 10\n",
        "\n",
        "\n",
        "train_losses = []\n",
        "train_accuracy = []\n",
        "test_losses = []\n",
        "test_accuracy = []\n",
        "for i in range(EPOCH):\n",
        "  for x,y in loader:\n",
        "    print(x.size(), y.size())\n",
        "    y_hat = model(x)\n",
        "    loss = loss_fn(y_hat, y)\n",
        "\n",
        "    optimizer.zero_grad()\n",
        "    loss.backward()\n",
        "    optimizer.step()\n",
        "\n",
        "  correct = 0\n",
        "  num_train = 0\n",
        "\n",
        "  for x, y in loader:\n",
        "      y_hat = model(x)\n",
        "      y_hat_max_index = torch.argmax(y_hat)\n",
        "      y_max_index = torch.argmax(y)\n",
        "      if y_hat_max_index == y_max_index:\n",
        "        correct += 1\n",
        "      num_train += 1\n",
        "  train_losses.append(float(loss))\n",
        "  train_accuracy.append(correct/num_train)\n",
        "  optimizer.zero_grad()\n",
        "\n",
        "  correct = 0\n",
        "  num_test = 0\n",
        "\n",
        "  for x, y in testloader:\n",
        "      y_hat = model(x)\n",
        "      y_hat_max_index = torch.argmax(y_hat)\n",
        "      y_max_index = torch.argmax(y)\n",
        "      if y_hat_max_index == y_max_index:\n",
        "        correct += 1\n",
        "      num_test += 1\n",
        "      loss = loss_fn(y_hat, y)\n",
        "\n",
        "      optimizer.zero_grad()\n",
        "      loss.backward()\n",
        "      optimizer.step()\n",
        "  test_losses.append(float(loss))\n",
        "  test_accuracy.append(correct/num_test)\n",
        "  optimizer.zero_grad()\n",
        "\n",
        "  print(f\"EPOCH {i}\")\n",
        "\n",
        "fig = plt.figure(figsize = (10,10))\n",
        "ax1 = fig.add_subplot(2, 1, 1)\n",
        "ax2 = fig.add_subplot(2, 1, 2)\n",
        "ax1.plot([i for i in range(len(train_losses))], train_losses, label=\"Loss function(training)\")\n",
        "ax1.plot([i for i in range(len(test_losses))], test_losses, label=\"Loss function(test)\")\n",
        "ax2.plot([i for i in range(len(train_accuracy))], train_accuracy, label=\"Accuracy(training)\")\n",
        "ax2.plot([i for i in range(len(test_accuracy))], test_accuracy, label=\"Accuracy(test)\")\n",
        "ax1.legend()\n",
        "ax2.legend() # Google Colaboratoryでは動的なグラフ生成が手間なため割愛"
      ],
      "metadata": {
        "id": "0G_3WGClHCIo"
      },
      "execution_count": null,
      "outputs": []
    },
    {
      "cell_type": "code",
      "source": [
        "print(X_GPU, type(X_GPU), X_GPU.size())"
      ],
      "metadata": {
        "colab": {
          "base_uri": "https://localhost:8080/"
        },
        "id": "mmIBNCINHcmr",
        "outputId": "c73c69df-20a1-4c21-b9f6-321ce7826753"
      },
      "execution_count": null,
      "outputs": [
        {
          "output_type": "stream",
          "name": "stdout",
          "text": [
            "tensor([[0., 0., 0.,  ..., 0., 0., 0.],\n",
            "        [0., 0., 0.,  ..., 0., 0., 0.],\n",
            "        [0., 0., 0.,  ..., 0., 0., 0.],\n",
            "        ...,\n",
            "        [0., 0., 0.,  ..., 0., 0., 0.],\n",
            "        [0., 0., 0.,  ..., 0., 0., 0.],\n",
            "        [0., 0., 0.,  ..., 0., 0., 0.]], device='cuda:0') <class 'torch.Tensor'> torch.Size([10672, 300])\n"
          ]
        }
      ]
    }
  ]
}